{
 "cells": [
  {
   "cell_type": "code",
   "execution_count": 1,
   "id": "00f0c03e-ebcb-40ab-9538-44cec12997a2",
   "metadata": {},
   "outputs": [
    {
     "name": "stdout",
     "output_type": "stream",
     "text": [
      "Requirement already satisfied: torch in /opt/conda/lib/python3.10/site-packages (2.5.1)\n",
      "Requirement already satisfied: torchtext in /opt/conda/lib/python3.10/site-packages (0.18.0)\n",
      "Requirement already satisfied: transformers in /opt/conda/lib/python3.10/site-packages (4.46.3)\n",
      "Requirement already satisfied: filelock in /opt/conda/lib/python3.10/site-packages (from torch) (3.13.1)\n",
      "Requirement already satisfied: typing-extensions>=4.8.0 in /opt/conda/lib/python3.10/site-packages (from torch) (4.12.2)\n",
      "Requirement already satisfied: networkx in /opt/conda/lib/python3.10/site-packages (from torch) (3.1)\n",
      "Requirement already satisfied: jinja2 in /opt/conda/lib/python3.10/site-packages (from torch) (3.1.2)\n",
      "Requirement already satisfied: fsspec in /opt/conda/lib/python3.10/site-packages (from torch) (2023.12.2)\n",
      "Requirement already satisfied: nvidia-cuda-nvrtc-cu12==12.4.127 in /opt/conda/lib/python3.10/site-packages (from torch) (12.4.127)\n",
      "Requirement already satisfied: nvidia-cuda-runtime-cu12==12.4.127 in /opt/conda/lib/python3.10/site-packages (from torch) (12.4.127)\n",
      "Requirement already satisfied: nvidia-cuda-cupti-cu12==12.4.127 in /opt/conda/lib/python3.10/site-packages (from torch) (12.4.127)\n",
      "Requirement already satisfied: nvidia-cudnn-cu12==9.1.0.70 in /opt/conda/lib/python3.10/site-packages (from torch) (9.1.0.70)\n",
      "Requirement already satisfied: nvidia-cublas-cu12==12.4.5.8 in /opt/conda/lib/python3.10/site-packages (from torch) (12.4.5.8)\n",
      "Requirement already satisfied: nvidia-cufft-cu12==11.2.1.3 in /opt/conda/lib/python3.10/site-packages (from torch) (11.2.1.3)\n",
      "Requirement already satisfied: nvidia-curand-cu12==10.3.5.147 in /opt/conda/lib/python3.10/site-packages (from torch) (10.3.5.147)\n",
      "Requirement already satisfied: nvidia-cusolver-cu12==11.6.1.9 in /opt/conda/lib/python3.10/site-packages (from torch) (11.6.1.9)\n",
      "Requirement already satisfied: nvidia-cusparse-cu12==12.3.1.170 in /opt/conda/lib/python3.10/site-packages (from torch) (12.3.1.170)\n",
      "Requirement already satisfied: nvidia-nccl-cu12==2.21.5 in /opt/conda/lib/python3.10/site-packages (from torch) (2.21.5)\n",
      "Requirement already satisfied: nvidia-nvtx-cu12==12.4.127 in /opt/conda/lib/python3.10/site-packages (from torch) (12.4.127)\n",
      "Requirement already satisfied: nvidia-nvjitlink-cu12==12.4.127 in /opt/conda/lib/python3.10/site-packages (from torch) (12.4.127)\n",
      "Requirement already satisfied: triton==3.1.0 in /opt/conda/lib/python3.10/site-packages (from torch) (3.1.0)\n",
      "Requirement already satisfied: sympy==1.13.1 in /opt/conda/lib/python3.10/site-packages (from torch) (1.13.1)\n",
      "Requirement already satisfied: mpmath<1.4,>=1.1.0 in /opt/conda/lib/python3.10/site-packages (from sympy==1.13.1->torch) (1.3.0)\n",
      "Requirement already satisfied: tqdm in /opt/conda/lib/python3.10/site-packages (from torchtext) (4.67.1)\n",
      "Requirement already satisfied: requests in /opt/conda/lib/python3.10/site-packages (from torchtext) (2.32.3)\n",
      "Requirement already satisfied: numpy in /opt/conda/lib/python3.10/site-packages (from torchtext) (1.26.2)\n",
      "Requirement already satisfied: huggingface-hub<1.0,>=0.23.2 in /opt/conda/lib/python3.10/site-packages (from transformers) (0.26.2)\n",
      "Requirement already satisfied: packaging>=20.0 in /opt/conda/lib/python3.10/site-packages (from transformers) (23.1)\n",
      "Requirement already satisfied: pyyaml>=5.1 in /opt/conda/lib/python3.10/site-packages (from transformers) (6.0.1)\n",
      "Requirement already satisfied: regex!=2019.12.17 in /opt/conda/lib/python3.10/site-packages (from transformers) (2024.11.6)\n",
      "Requirement already satisfied: tokenizers<0.21,>=0.20 in /opt/conda/lib/python3.10/site-packages (from transformers) (0.20.3)\n",
      "Requirement already satisfied: safetensors>=0.4.1 in /opt/conda/lib/python3.10/site-packages (from transformers) (0.4.5)\n",
      "Requirement already satisfied: MarkupSafe>=2.0 in /opt/conda/lib/python3.10/site-packages (from jinja2->torch) (2.1.1)\n",
      "Requirement already satisfied: charset-normalizer<4,>=2 in /opt/conda/lib/python3.10/site-packages (from requests->torchtext) (2.0.4)\n",
      "Requirement already satisfied: idna<4,>=2.5 in /opt/conda/lib/python3.10/site-packages (from requests->torchtext) (3.4)\n",
      "Requirement already satisfied: urllib3<3,>=1.21.1 in /opt/conda/lib/python3.10/site-packages (from requests->torchtext) (1.26.18)\n",
      "Requirement already satisfied: certifi>=2017.4.17 in /opt/conda/lib/python3.10/site-packages (from requests->torchtext) (2023.11.17)\n",
      "\u001b[33mWARNING: Running pip as the 'root' user can result in broken permissions and conflicting behaviour with the system package manager. It is recommended to use a virtual environment instead: https://pip.pypa.io/warnings/venv\u001b[0m\u001b[33m\n",
      "\u001b[0mRequirement already satisfied: torch in /opt/conda/lib/python3.10/site-packages (2.5.1)\n",
      "Requirement already satisfied: datasets in /opt/conda/lib/python3.10/site-packages (3.1.0)\n",
      "Requirement already satisfied: filelock in /opt/conda/lib/python3.10/site-packages (from torch) (3.13.1)\n",
      "Requirement already satisfied: typing-extensions>=4.8.0 in /opt/conda/lib/python3.10/site-packages (from torch) (4.12.2)\n",
      "Requirement already satisfied: networkx in /opt/conda/lib/python3.10/site-packages (from torch) (3.1)\n",
      "Requirement already satisfied: jinja2 in /opt/conda/lib/python3.10/site-packages (from torch) (3.1.2)\n",
      "Requirement already satisfied: fsspec in /opt/conda/lib/python3.10/site-packages (from torch) (2023.12.2)\n",
      "Requirement already satisfied: nvidia-cuda-nvrtc-cu12==12.4.127 in /opt/conda/lib/python3.10/site-packages (from torch) (12.4.127)\n",
      "Requirement already satisfied: nvidia-cuda-runtime-cu12==12.4.127 in /opt/conda/lib/python3.10/site-packages (from torch) (12.4.127)\n",
      "Requirement already satisfied: nvidia-cuda-cupti-cu12==12.4.127 in /opt/conda/lib/python3.10/site-packages (from torch) (12.4.127)\n",
      "Requirement already satisfied: nvidia-cudnn-cu12==9.1.0.70 in /opt/conda/lib/python3.10/site-packages (from torch) (9.1.0.70)\n",
      "Requirement already satisfied: nvidia-cublas-cu12==12.4.5.8 in /opt/conda/lib/python3.10/site-packages (from torch) (12.4.5.8)\n",
      "Requirement already satisfied: nvidia-cufft-cu12==11.2.1.3 in /opt/conda/lib/python3.10/site-packages (from torch) (11.2.1.3)\n",
      "Requirement already satisfied: nvidia-curand-cu12==10.3.5.147 in /opt/conda/lib/python3.10/site-packages (from torch) (10.3.5.147)\n",
      "Requirement already satisfied: nvidia-cusolver-cu12==11.6.1.9 in /opt/conda/lib/python3.10/site-packages (from torch) (11.6.1.9)\n",
      "Requirement already satisfied: nvidia-cusparse-cu12==12.3.1.170 in /opt/conda/lib/python3.10/site-packages (from torch) (12.3.1.170)\n",
      "Requirement already satisfied: nvidia-nccl-cu12==2.21.5 in /opt/conda/lib/python3.10/site-packages (from torch) (2.21.5)\n",
      "Requirement already satisfied: nvidia-nvtx-cu12==12.4.127 in /opt/conda/lib/python3.10/site-packages (from torch) (12.4.127)\n",
      "Requirement already satisfied: nvidia-nvjitlink-cu12==12.4.127 in /opt/conda/lib/python3.10/site-packages (from torch) (12.4.127)\n",
      "Requirement already satisfied: triton==3.1.0 in /opt/conda/lib/python3.10/site-packages (from torch) (3.1.0)\n",
      "Requirement already satisfied: sympy==1.13.1 in /opt/conda/lib/python3.10/site-packages (from torch) (1.13.1)\n",
      "Requirement already satisfied: mpmath<1.4,>=1.1.0 in /opt/conda/lib/python3.10/site-packages (from sympy==1.13.1->torch) (1.3.0)\n",
      "Requirement already satisfied: numpy>=1.17 in /opt/conda/lib/python3.10/site-packages (from datasets) (1.26.2)\n",
      "Requirement already satisfied: pyarrow>=15.0.0 in /opt/conda/lib/python3.10/site-packages (from datasets) (18.0.0)\n",
      "Requirement already satisfied: dill<0.3.9,>=0.3.0 in /opt/conda/lib/python3.10/site-packages (from datasets) (0.3.8)\n",
      "Requirement already satisfied: pandas in /opt/conda/lib/python3.10/site-packages (from datasets) (2.2.3)\n",
      "Requirement already satisfied: requests>=2.32.2 in /opt/conda/lib/python3.10/site-packages (from datasets) (2.32.3)\n",
      "Requirement already satisfied: tqdm>=4.66.3 in /opt/conda/lib/python3.10/site-packages (from datasets) (4.67.1)\n",
      "Requirement already satisfied: xxhash in /opt/conda/lib/python3.10/site-packages (from datasets) (3.5.0)\n",
      "Requirement already satisfied: multiprocess<0.70.17 in /opt/conda/lib/python3.10/site-packages (from datasets) (0.70.16)\n",
      "Requirement already satisfied: aiohttp in /opt/conda/lib/python3.10/site-packages (from datasets) (3.11.7)\n",
      "Requirement already satisfied: huggingface-hub>=0.23.0 in /opt/conda/lib/python3.10/site-packages (from datasets) (0.26.2)\n",
      "Requirement already satisfied: packaging in /opt/conda/lib/python3.10/site-packages (from datasets) (23.1)\n",
      "Requirement already satisfied: pyyaml>=5.1 in /opt/conda/lib/python3.10/site-packages (from datasets) (6.0.1)\n",
      "Requirement already satisfied: aiohappyeyeballs>=2.3.0 in /opt/conda/lib/python3.10/site-packages (from aiohttp->datasets) (2.4.3)\n",
      "Requirement already satisfied: aiosignal>=1.1.2 in /opt/conda/lib/python3.10/site-packages (from aiohttp->datasets) (1.3.1)\n",
      "Requirement already satisfied: async-timeout<6.0,>=4.0 in /opt/conda/lib/python3.10/site-packages (from aiohttp->datasets) (5.0.1)\n",
      "Requirement already satisfied: attrs>=17.3.0 in /opt/conda/lib/python3.10/site-packages (from aiohttp->datasets) (23.1.0)\n",
      "Requirement already satisfied: frozenlist>=1.1.1 in /opt/conda/lib/python3.10/site-packages (from aiohttp->datasets) (1.5.0)\n",
      "Requirement already satisfied: multidict<7.0,>=4.5 in /opt/conda/lib/python3.10/site-packages (from aiohttp->datasets) (6.1.0)\n",
      "Requirement already satisfied: propcache>=0.2.0 in /opt/conda/lib/python3.10/site-packages (from aiohttp->datasets) (0.2.0)\n",
      "Requirement already satisfied: yarl<2.0,>=1.17.0 in /opt/conda/lib/python3.10/site-packages (from aiohttp->datasets) (1.18.0)\n",
      "Requirement already satisfied: charset-normalizer<4,>=2 in /opt/conda/lib/python3.10/site-packages (from requests>=2.32.2->datasets) (2.0.4)\n",
      "Requirement already satisfied: idna<4,>=2.5 in /opt/conda/lib/python3.10/site-packages (from requests>=2.32.2->datasets) (3.4)\n",
      "Requirement already satisfied: urllib3<3,>=1.21.1 in /opt/conda/lib/python3.10/site-packages (from requests>=2.32.2->datasets) (1.26.18)\n",
      "Requirement already satisfied: certifi>=2017.4.17 in /opt/conda/lib/python3.10/site-packages (from requests>=2.32.2->datasets) (2023.11.17)\n",
      "Requirement already satisfied: MarkupSafe>=2.0 in /opt/conda/lib/python3.10/site-packages (from jinja2->torch) (2.1.1)\n",
      "Requirement already satisfied: python-dateutil>=2.8.2 in /opt/conda/lib/python3.10/site-packages (from pandas->datasets) (2.8.2)\n",
      "Requirement already satisfied: pytz>=2020.1 in /opt/conda/lib/python3.10/site-packages (from pandas->datasets) (2023.3.post1)\n",
      "Requirement already satisfied: tzdata>=2022.7 in /opt/conda/lib/python3.10/site-packages (from pandas->datasets) (2024.2)\n",
      "Requirement already satisfied: six>=1.5 in /opt/conda/lib/python3.10/site-packages (from python-dateutil>=2.8.2->pandas->datasets) (1.16.0)\n",
      "\u001b[33mWARNING: Running pip as the 'root' user can result in broken permissions and conflicting behaviour with the system package manager. It is recommended to use a virtual environment instead: https://pip.pypa.io/warnings/venv\u001b[0m\u001b[33m\n",
      "\u001b[0m"
     ]
    }
   ],
   "source": [
    "!pip install torch torchtext transformers\n",
    "!pip install torch datasets"
   ]
  },
  {
   "cell_type": "code",
   "execution_count": 2,
   "id": "b3dc7d2f-dea4-42a6-ab30-bcfa62275257",
   "metadata": {},
   "outputs": [
    {
     "name": "stderr",
     "output_type": "stream",
     "text": [
      "/opt/conda/lib/python3.10/site-packages/tqdm/auto.py:21: TqdmWarning: IProgress not found. Please update jupyter and ipywidgets. See https://ipywidgets.readthedocs.io/en/stable/user_install.html\n",
      "  from .autonotebook import tqdm as notebook_tqdm\n"
     ]
    },
    {
     "name": "stdout",
     "output_type": "stream",
     "text": [
      "Displaying 5 random QnA samples:\n",
      "\n",
      "Sample 1:\n",
      "Context: Beyoncé Giselle Knowles-Carter (/biːˈjɒnseɪ/ bee-YON-say) (born September 4, 1981) is an American singer, songwriter, record producer and actress. Born and raised in Houston, Texas, she performed in various singing and dancing competitions as a child, and rose to fame in the late 1990s as lead singer of R&B girl-group Destiny's Child. Managed by her father, Mathew Knowles, the group became one of the world's best-selling girl groups of all time. Their hiatus saw the release of Beyoncé's debut album, Dangerously in Love (2003), which established her as a solo artist worldwide, earned five Grammy Awards and featured the Billboard Hot 100 number-one singles \"Crazy in Love\" and \"Baby Boy\".\n",
      "Question: In which decade did Beyonce become famous?\n",
      "Answer: late 1990s\n",
      "--------------------------------------------------------------------------------\n",
      "Sample 2:\n",
      "Context: A self-described \"modern-day feminist\", Beyoncé creates songs that are often characterized by themes of love, relationships, and monogamy, as well as female sexuality and empowerment. On stage, her dynamic, highly choreographed performances have led to critics hailing her as one of the best entertainers in contemporary popular music. Throughout a career spanning 19 years, she has sold over 118 million records as a solo artist, and a further 60 million with Destiny's Child, making her one of the best-selling music artists of all time. She has won 20 Grammy Awards and is the most nominated woman in the award's history. The Recording Industry Association of America recognized her as the Top Certified Artist in America during the 2000s decade. In 2009, Billboard named her the Top Radio Songs Artist of the Decade, the Top Female Artist of the 2000s and their Artist of the Millennium in 2011. Time listed her among the 100 most influential people in the world in 2013 and 2014. Forbes magazine also listed her as the most powerful female musician of 2015.\n",
      "Question: How many Grammy awards has Beyoncé won?\n",
      "Answer: 20\n",
      "--------------------------------------------------------------------------------\n",
      "Sample 3:\n",
      "Context: Beyoncé Giselle Knowles-Carter (/biːˈjɒnseɪ/ bee-YON-say) (born September 4, 1981) is an American singer, songwriter, record producer and actress. Born and raised in Houston, Texas, she performed in various singing and dancing competitions as a child, and rose to fame in the late 1990s as lead singer of R&B girl-group Destiny's Child. Managed by her father, Mathew Knowles, the group became one of the world's best-selling girl groups of all time. Their hiatus saw the release of Beyoncé's debut album, Dangerously in Love (2003), which established her as a solo artist worldwide, earned five Grammy Awards and featured the Billboard Hot 100 number-one singles \"Crazy in Love\" and \"Baby Boy\".\n",
      "Question: When did Beyonce start becoming popular?\n",
      "Answer: in the late 1990s\n",
      "--------------------------------------------------------------------------------\n",
      "Sample 4:\n",
      "Context: A self-described \"modern-day feminist\", Beyoncé creates songs that are often characterized by themes of love, relationships, and monogamy, as well as female sexuality and empowerment. On stage, her dynamic, highly choreographed performances have led to critics hailing her as one of the best entertainers in contemporary popular music. Throughout a career spanning 19 years, she has sold over 118 million records as a solo artist, and a further 60 million with Destiny's Child, making her one of the best-selling music artists of all time. She has won 20 Grammy Awards and is the most nominated woman in the award's history. The Recording Industry Association of America recognized her as the Top Certified Artist in America during the 2000s decade. In 2009, Billboard named her the Top Radio Songs Artist of the Decade, the Top Female Artist of the 2000s and their Artist of the Millennium in 2011. Time listed her among the 100 most influential people in the world in 2013 and 2014. Forbes magazine also listed her as the most powerful female musician of 2015.\n",
      "Question: How did Beyonce describe herself as a feminist?\n",
      "Answer: modern-day feminist\n",
      "--------------------------------------------------------------------------------\n",
      "Sample 5:\n",
      "Context: A self-described \"modern-day feminist\", Beyoncé creates songs that are often characterized by themes of love, relationships, and monogamy, as well as female sexuality and empowerment. On stage, her dynamic, highly choreographed performances have led to critics hailing her as one of the best entertainers in contemporary popular music. Throughout a career spanning 19 years, she has sold over 118 million records as a solo artist, and a further 60 million with Destiny's Child, making her one of the best-selling music artists of all time. She has won 20 Grammy Awards and is the most nominated woman in the award's history. The Recording Industry Association of America recognized her as the Top Certified Artist in America during the 2000s decade. In 2009, Billboard named her the Top Radio Songs Artist of the Decade, the Top Female Artist of the 2000s and their Artist of the Millennium in 2011. Time listed her among the 100 most influential people in the world in 2013 and 2014. Forbes magazine also listed her as the most powerful female musician of 2015.\n",
      "Question: In which decade did the Recording Industry Association of America recognize Beyonce as the The Top Certified Artist?\n",
      "Answer: 2000s\n",
      "--------------------------------------------------------------------------------\n"
     ]
    }
   ],
   "source": [
    "import random\n",
    "from datasets import load_dataset\n",
    "\n",
    "min_samples=50\n",
    "# Load the SQuAD 2.0 dataset\n",
    "def load_squad2_dataset(min_samples):\n",
    "    squad_dataset = load_dataset(\"squad_v2\")\n",
    "\n",
    "    qna_pairs = []\n",
    "    for data in squad_dataset[\"train\"]:\n",
    "        if data[\"answers\"][\"text\"]:\n",
    "            qna_pairs.append({\n",
    "                \"context\": data[\"context\"],\n",
    "                \"question\": data[\"question\"],\n",
    "                \"answer\": data[\"answers\"][\"text\"][0]  # Taking the first answer\n",
    "            })\n",
    "        if len(qna_pairs) >= min_samples:\n",
    "            break\n",
    "    return qna_pairs\n",
    "\n",
    "qna_pairs = load_squad2_dataset(min_samples)\n",
    "\n",
    "#  Displaying samples\n",
    "def display_samples(samples, num_samples=5):\n",
    "    print(f\"Displaying {num_samples} random QnA samples:\\n\")\n",
    "    random_samples = random.sample(samples, min(num_samples, len(samples)))\n",
    "    for i, sample in enumerate(random_samples, 1):\n",
    "        print(f\"Sample {i}:\")\n",
    "        print(f\"Context: {sample['context']}\")\n",
    "        print(f\"Question: {sample['question']}\")\n",
    "        print(f\"Answer: {sample['answer']}\")\n",
    "        print(\"-\" * 80)\n",
    "\n",
    "display_samples(qna_pairs, num_samples=5)"
   ]
  },
  {
   "cell_type": "code",
   "execution_count": 3,
   "id": "365fcf50-68e5-4ab5-9c32-fe8a7c340557",
   "metadata": {},
   "outputs": [
    {
     "name": "stdout",
     "output_type": "stream",
     "text": [
      "Sample Preprocessed Data:\n",
      "Input IDs: tensor([  101,  2043,  2106, 20773,  2707,  3352,  2759,  1029,   102, 20773,\n",
      "        21025, 19358, 22815,  1011,  5708,  1006,  1013, 12170, 23432, 29715,\n",
      "         3501, 29678, 12325, 29685,  1013, 10506,  1011, 10930,  2078,  1011,\n",
      "         2360,  1007,  1006,  2141,  2244,  1018,  1010,  3261,  1007,  2003,\n",
      "         2019,  2137,  3220,  1010,  6009,  1010,  2501,  3135,  1998,  3883,\n",
      "         1012,  2141,  1998,  2992,  1999,  5395,  1010,  3146,  1010,  2016,\n",
      "         2864,  1999,  2536,  4823,  1998,  5613,  6479,  2004,  1037,  2775,\n",
      "         1010,  1998,  3123,  2000,  4476,  1999,  1996,  2397,  4134,  2004,\n",
      "         2599,  3220,  1997,  1054,  1004,  1038,  2611,  1011,  2177, 10461,\n",
      "         1005,  1055,  2775,  1012,  3266,  2011,  2014,  2269,  1010, 25436,\n",
      "        22815,  1010,  1996,  2177,  2150,  2028,  1997,  1996,  2088,  1005,\n",
      "         1055,  2190,  1011,  4855,  2611,  2967,  1997,  2035,  2051,  1012,\n",
      "         2037, 14221,  2387,  1996,  2713,  1997, 20773,  1005,  1055,  2834,\n",
      "         2201,  1010, 20754,  1999,  2293,  1006,  2494,  1007,  1010,  2029,\n",
      "         2511,  2014,  2004,  1037,  3948,  3063,  4969,  1010,  3687,  2274,\n",
      "         8922,  2982,  1998,  2956,  1996,  4908,  2980,  2531,  2193,  1011,\n",
      "         2028,  3895,  1000,  4689,  1999,  2293,  1000,  1998,  1000,  3336,\n",
      "         2879,  1000,  1012,   102,     0,     0,     0,     0,     0,     0,\n",
      "            0,     0,     0,     0,     0,     0,     0,     0,     0,     0,\n",
      "            0,     0,     0,     0,     0,     0,     0,     0,     0,     0,\n",
      "            0,     0,     0,     0,     0,     0,     0,     0,     0,     0,\n",
      "            0,     0,     0,     0,     0,     0,     0,     0,     0,     0,\n",
      "            0,     0,     0,     0,     0,     0,     0,     0,     0,     0,\n",
      "            0,     0,     0,     0,     0,     0,     0,     0,     0,     0,\n",
      "            0,     0,     0,     0,     0,     0,     0,     0,     0,     0,\n",
      "            0,     0,     0,     0,     0,     0,     0,     0,     0,     0,\n",
      "            0,     0,     0,     0,     0,     0,     0,     0,     0,     0,\n",
      "            0,     0,     0,     0,     0,     0,     0,     0,     0,     0,\n",
      "            0,     0,     0,     0,     0,     0,     0,     0,     0,     0,\n",
      "            0,     0,     0,     0,     0,     0,     0,     0,     0,     0,\n",
      "            0,     0,     0,     0,     0,     0,     0,     0,     0,     0,\n",
      "            0,     0,     0,     0,     0,     0,     0,     0,     0,     0,\n",
      "            0,     0,     0,     0,     0,     0,     0,     0,     0,     0,\n",
      "            0,     0,     0,     0,     0,     0,     0,     0,     0,     0,\n",
      "            0,     0,     0,     0,     0,     0,     0,     0,     0,     0,\n",
      "            0,     0,     0,     0,     0,     0,     0,     0,     0,     0,\n",
      "            0,     0,     0,     0,     0,     0,     0,     0,     0,     0,\n",
      "            0,     0,     0,     0,     0,     0,     0,     0,     0,     0,\n",
      "            0,     0,     0,     0])\n",
      "Attention Mask: tensor([1, 1, 1, 1, 1, 1, 1, 1, 1, 1, 1, 1, 1, 1, 1, 1, 1, 1, 1, 1, 1, 1, 1, 1,\n",
      "        1, 1, 1, 1, 1, 1, 1, 1, 1, 1, 1, 1, 1, 1, 1, 1, 1, 1, 1, 1, 1, 1, 1, 1,\n",
      "        1, 1, 1, 1, 1, 1, 1, 1, 1, 1, 1, 1, 1, 1, 1, 1, 1, 1, 1, 1, 1, 1, 1, 1,\n",
      "        1, 1, 1, 1, 1, 1, 1, 1, 1, 1, 1, 1, 1, 1, 1, 1, 1, 1, 1, 1, 1, 1, 1, 1,\n",
      "        1, 1, 1, 1, 1, 1, 1, 1, 1, 1, 1, 1, 1, 1, 1, 1, 1, 1, 1, 1, 1, 1, 1, 1,\n",
      "        1, 1, 1, 1, 1, 1, 1, 1, 1, 1, 1, 1, 1, 1, 1, 1, 1, 1, 1, 1, 1, 1, 1, 1,\n",
      "        1, 1, 1, 1, 1, 1, 1, 1, 1, 1, 1, 1, 1, 1, 1, 1, 1, 1, 1, 1, 1, 1, 1, 1,\n",
      "        1, 1, 1, 1, 1, 1, 0, 0, 0, 0, 0, 0, 0, 0, 0, 0, 0, 0, 0, 0, 0, 0, 0, 0,\n",
      "        0, 0, 0, 0, 0, 0, 0, 0, 0, 0, 0, 0, 0, 0, 0, 0, 0, 0, 0, 0, 0, 0, 0, 0,\n",
      "        0, 0, 0, 0, 0, 0, 0, 0, 0, 0, 0, 0, 0, 0, 0, 0, 0, 0, 0, 0, 0, 0, 0, 0,\n",
      "        0, 0, 0, 0, 0, 0, 0, 0, 0, 0, 0, 0, 0, 0, 0, 0, 0, 0, 0, 0, 0, 0, 0, 0,\n",
      "        0, 0, 0, 0, 0, 0, 0, 0, 0, 0, 0, 0, 0, 0, 0, 0, 0, 0, 0, 0, 0, 0, 0, 0,\n",
      "        0, 0, 0, 0, 0, 0, 0, 0, 0, 0, 0, 0, 0, 0, 0, 0, 0, 0, 0, 0, 0, 0, 0, 0,\n",
      "        0, 0, 0, 0, 0, 0, 0, 0, 0, 0, 0, 0, 0, 0, 0, 0, 0, 0, 0, 0, 0, 0, 0, 0,\n",
      "        0, 0, 0, 0, 0, 0, 0, 0, 0, 0, 0, 0, 0, 0, 0, 0, 0, 0, 0, 0, 0, 0, 0, 0,\n",
      "        0, 0, 0, 0, 0, 0, 0, 0, 0, 0, 0, 0, 0, 0, 0, 0, 0, 0, 0, 0, 0, 0, 0, 0])\n",
      "Start Token Index: 75\n",
      "End Token Index: 78\n"
     ]
    }
   ],
   "source": [
    "from transformers import BertTokenizerFast\n",
    "\n",
    "# Loading the tokenizer\n",
    "tokenizer = BertTokenizerFast.from_pretrained(\"bert-base-uncased\")\n",
    "\n",
    "def preprocess_bert_format(qna_pairs, max_length=384):\n",
    "    \"\"\"\n",
    "    Preprocess the dataset into BERT-compatible format.\n",
    "\n",
    "    Args:\n",
    "        qna_pairs (list): List of question-answer pairs.\n",
    "        max_length (int): Maximum length for input tokens.\n",
    "\n",
    "    Returns:\n",
    "        processed_data (list): List of dictionaries containing BERT-compatible inputs.\n",
    "    \"\"\"\n",
    "    processed_data = []\n",
    "    for item in qna_pairs:\n",
    "        context = item[\"context\"]\n",
    "        question = item[\"question\"]\n",
    "        answer = item[\"answer\"]\n",
    "\n",
    "        # Tokenizing\n",
    "        encoding = tokenizer(\n",
    "            question,\n",
    "            context,\n",
    "            max_length=max_length,\n",
    "            truncation=True,\n",
    "            padding=\"max_length\",\n",
    "            return_offsets_mapping=True,\n",
    "            return_tensors=\"pt\"\n",
    "        )\n",
    "\n",
    "        start_char_idx = context.find(answer)\n",
    "        end_char_idx = start_char_idx + len(answer)\n",
    "        offsets = encoding[\"offset_mapping\"][0]\n",
    "        start_token_idx = None\n",
    "        end_token_idx = None\n",
    "\n",
    "        for idx, (start, end) in enumerate(offsets):\n",
    "            if start <= start_char_idx < end:\n",
    "                start_token_idx = idx\n",
    "            if start < end_char_idx <= end:\n",
    "                end_token_idx = idx\n",
    "\n",
    "        if start_token_idx is None or end_token_idx is None:\n",
    "            continue\n",
    "\n",
    "        processed_item = {\n",
    "            \"input_ids\": encoding[\"input_ids\"][0],\n",
    "            \"attention_mask\": encoding[\"attention_mask\"][0],\n",
    "            \"start_token_idx\": start_token_idx,\n",
    "            \"end_token_idx\": end_token_idx,\n",
    "        }\n",
    "        processed_data.append(processed_item)\n",
    "    \n",
    "    return processed_data\n",
    "\n",
    "# Preprocessing\n",
    "processed_qna_pairs = preprocess_bert_format(qna_pairs)\n",
    "print(\"Sample Preprocessed Data:\")\n",
    "print(f\"Input IDs: {processed_qna_pairs[0]['input_ids']}\")\n",
    "print(f\"Attention Mask: {processed_qna_pairs[0]['attention_mask']}\")\n",
    "print(f\"Start Token Index: {processed_qna_pairs[0]['start_token_idx']}\")\n",
    "print(f\"End Token Index: {processed_qna_pairs[0]['end_token_idx']}\")\n"
   ]
  },
  {
   "cell_type": "code",
   "execution_count": 4,
   "id": "1a5becf5-a16c-4227-adda-daa0d1fde5a4",
   "metadata": {},
   "outputs": [
    {
     "name": "stdout",
     "output_type": "stream",
     "text": [
      "<class 'transformers.models.bert.tokenization_bert_fast.BertTokenizerFast'>\n"
     ]
    }
   ],
   "source": [
    "print(type(tokenizer))\n"
   ]
  },
  {
   "cell_type": "code",
   "execution_count": 5,
   "id": "f85aef13-a1e5-44f1-ac1f-63681f3dc14c",
   "metadata": {},
   "outputs": [
    {
     "name": "stderr",
     "output_type": "stream",
     "text": [
      "/opt/conda/lib/python3.10/site-packages/torchvision/io/image.py:13: UserWarning: Failed to load image Python extension: '/opt/conda/lib/python3.10/site-packages/torchvision/image.so: undefined symbol: _ZN3c1017RegisterOperatorsD1Ev'If you don't plan on using image functionality from `torchvision.io`, you can ignore this warning. Otherwise, there might be something wrong with your environment. Did you have `libjpeg` or `libpng` installed before building `torchvision` from source?\n",
      "  warn(\n",
      "Some weights of BertForQuestionAnswering were not initialized from the model checkpoint at bert-base-uncased and are newly initialized: ['qa_outputs.bias', 'qa_outputs.weight']\n",
      "You should probably TRAIN this model on a down-stream task to be able to use it for predictions and inference.\n",
      "/opt/conda/lib/python3.10/site-packages/transformers/optimization.py:591: FutureWarning: This implementation of AdamW is deprecated and will be removed in a future version. Use the PyTorch implementation torch.optim.AdamW instead, or set `no_deprecation_warning=True` to disable this warning\n",
      "  warnings.warn(\n"
     ]
    }
   ],
   "source": [
    "from transformers import BertForQuestionAnswering, AdamW\n",
    "from torch.utils.data import DataLoader, Dataset\n",
    "import torch\n",
    "from tqdm import tqdm\n",
    "\n",
    "# Use GPU if available, otherwise CPU\n",
    "device = torch.device(\"cuda\" if torch.cuda.is_available() else \"cpu\")\n",
    "\n",
    "class QnADataset(Dataset):\n",
    "    def __init__(self, processed_data):\n",
    "        self.data = processed_data\n",
    "\n",
    "    def __len__(self):\n",
    "        return len(self.data)\n",
    "\n",
    "    def __getitem__(self, idx):\n",
    "        return {\n",
    "            \"input_ids\": self.data[idx][\"input_ids\"],\n",
    "            \"attention_mask\": self.data[idx][\"attention_mask\"],\n",
    "            \"start_token_idx\": self.data[idx][\"start_token_idx\"],\n",
    "            \"end_token_idx\": self.data[idx][\"end_token_idx\"],\n",
    "        }\n",
    "\n",
    "processed_dataset = QnADataset(processed_qna_pairs)\n",
    "train_loader = DataLoader(processed_dataset, batch_size=8, shuffle=True)\n",
    "\n",
    "# Loading the BERT model\n",
    "model = BertForQuestionAnswering.from_pretrained(\"bert-base-uncased\")\n",
    "model.to(device)\n",
    "optimizer = AdamW(model.parameters(), lr=5e-5)"
   ]
  },
  {
   "cell_type": "code",
   "execution_count": 6,
   "id": "706f9a12-b41f-4a49-bd0a-76ef315288a9",
   "metadata": {},
   "outputs": [
    {
     "name": "stdout",
     "output_type": "stream",
     "text": [
      "Epoch 1\n"
     ]
    },
    {
     "name": "stderr",
     "output_type": "stream",
     "text": [
      "Training: 100%|██████████| 7/7 [00:00<00:00, 10.84it/s]\n"
     ]
    },
    {
     "name": "stdout",
     "output_type": "stream",
     "text": [
      "Epoch 1 Loss: 38.1839\n"
     ]
    },
    {
     "name": "stderr",
     "output_type": "stream",
     "text": [
      "Evaluating: 100%|██████████| 7/7 [00:00<00:00, 56.10it/s]\n"
     ]
    },
    {
     "name": "stdout",
     "output_type": "stream",
     "text": [
      "Validation Start Accuracy: 0.1800\n",
      "Validation End Accuracy: 0.2000\n",
      "Epoch 2\n"
     ]
    },
    {
     "name": "stderr",
     "output_type": "stream",
     "text": [
      "Training: 100%|██████████| 7/7 [00:00<00:00, 15.33it/s]\n"
     ]
    },
    {
     "name": "stdout",
     "output_type": "stream",
     "text": [
      "Epoch 2 Loss: 28.1539\n"
     ]
    },
    {
     "name": "stderr",
     "output_type": "stream",
     "text": [
      "Evaluating: 100%|██████████| 7/7 [00:00<00:00, 57.20it/s]\n"
     ]
    },
    {
     "name": "stdout",
     "output_type": "stream",
     "text": [
      "Validation Start Accuracy: 0.2200\n",
      "Validation End Accuracy: 0.2000\n",
      "Epoch 3\n"
     ]
    },
    {
     "name": "stderr",
     "output_type": "stream",
     "text": [
      "Training: 100%|██████████| 7/7 [00:00<00:00, 15.44it/s]\n"
     ]
    },
    {
     "name": "stdout",
     "output_type": "stream",
     "text": [
      "Epoch 3 Loss: 23.5454\n"
     ]
    },
    {
     "name": "stderr",
     "output_type": "stream",
     "text": [
      "Evaluating: 100%|██████████| 7/7 [00:00<00:00, 56.10it/s]\n"
     ]
    },
    {
     "name": "stdout",
     "output_type": "stream",
     "text": [
      "Validation Start Accuracy: 0.2600\n",
      "Validation End Accuracy: 0.2000\n",
      "Epoch 4\n"
     ]
    },
    {
     "name": "stderr",
     "output_type": "stream",
     "text": [
      "Training: 100%|██████████| 7/7 [00:00<00:00, 15.49it/s]\n"
     ]
    },
    {
     "name": "stdout",
     "output_type": "stream",
     "text": [
      "Epoch 4 Loss: 19.9465\n"
     ]
    },
    {
     "name": "stderr",
     "output_type": "stream",
     "text": [
      "Evaluating: 100%|██████████| 7/7 [00:00<00:00, 56.32it/s]\n"
     ]
    },
    {
     "name": "stdout",
     "output_type": "stream",
     "text": [
      "Validation Start Accuracy: 0.2200\n",
      "Validation End Accuracy: 0.3000\n",
      "Epoch 5\n"
     ]
    },
    {
     "name": "stderr",
     "output_type": "stream",
     "text": [
      "Training: 100%|██████████| 7/7 [00:00<00:00, 15.55it/s]\n"
     ]
    },
    {
     "name": "stdout",
     "output_type": "stream",
     "text": [
      "Epoch 5 Loss: 18.7883\n"
     ]
    },
    {
     "name": "stderr",
     "output_type": "stream",
     "text": [
      "Evaluating: 100%|██████████| 7/7 [00:00<00:00, 53.74it/s]\n"
     ]
    },
    {
     "name": "stdout",
     "output_type": "stream",
     "text": [
      "Validation Start Accuracy: 0.2400\n",
      "Validation End Accuracy: 0.3000\n",
      "Epoch 6\n"
     ]
    },
    {
     "name": "stderr",
     "output_type": "stream",
     "text": [
      "Training: 100%|██████████| 7/7 [00:00<00:00, 15.63it/s]\n"
     ]
    },
    {
     "name": "stdout",
     "output_type": "stream",
     "text": [
      "Epoch 6 Loss: 19.4523\n"
     ]
    },
    {
     "name": "stderr",
     "output_type": "stream",
     "text": [
      "Evaluating: 100%|██████████| 7/7 [00:00<00:00, 57.42it/s]\n"
     ]
    },
    {
     "name": "stdout",
     "output_type": "stream",
     "text": [
      "Validation Start Accuracy: 0.2200\n",
      "Validation End Accuracy: 0.2400\n",
      "Epoch 7\n"
     ]
    },
    {
     "name": "stderr",
     "output_type": "stream",
     "text": [
      "Training: 100%|██████████| 7/7 [00:00<00:00, 15.62it/s]\n"
     ]
    },
    {
     "name": "stdout",
     "output_type": "stream",
     "text": [
      "Epoch 7 Loss: 16.1742\n"
     ]
    },
    {
     "name": "stderr",
     "output_type": "stream",
     "text": [
      "Evaluating: 100%|██████████| 7/7 [00:00<00:00, 54.74it/s]\n"
     ]
    },
    {
     "name": "stdout",
     "output_type": "stream",
     "text": [
      "Validation Start Accuracy: 0.3400\n",
      "Validation End Accuracy: 0.4200\n",
      "Epoch 8\n"
     ]
    },
    {
     "name": "stderr",
     "output_type": "stream",
     "text": [
      "Training: 100%|██████████| 7/7 [00:00<00:00, 15.61it/s]\n"
     ]
    },
    {
     "name": "stdout",
     "output_type": "stream",
     "text": [
      "Epoch 8 Loss: 15.4323\n"
     ]
    },
    {
     "name": "stderr",
     "output_type": "stream",
     "text": [
      "Evaluating: 100%|██████████| 7/7 [00:00<00:00, 56.62it/s]\n"
     ]
    },
    {
     "name": "stdout",
     "output_type": "stream",
     "text": [
      "Validation Start Accuracy: 0.3000\n",
      "Validation End Accuracy: 0.3200\n",
      "Epoch 9\n"
     ]
    },
    {
     "name": "stderr",
     "output_type": "stream",
     "text": [
      "Training: 100%|██████████| 7/7 [00:00<00:00, 15.59it/s]\n"
     ]
    },
    {
     "name": "stdout",
     "output_type": "stream",
     "text": [
      "Epoch 9 Loss: 14.8057\n"
     ]
    },
    {
     "name": "stderr",
     "output_type": "stream",
     "text": [
      "Evaluating: 100%|██████████| 7/7 [00:00<00:00, 56.80it/s]\n"
     ]
    },
    {
     "name": "stdout",
     "output_type": "stream",
     "text": [
      "Validation Start Accuracy: 0.3200\n",
      "Validation End Accuracy: 0.4800\n",
      "Epoch 10\n"
     ]
    },
    {
     "name": "stderr",
     "output_type": "stream",
     "text": [
      "Training: 100%|██████████| 7/7 [00:00<00:00, 15.61it/s]\n"
     ]
    },
    {
     "name": "stdout",
     "output_type": "stream",
     "text": [
      "Epoch 10 Loss: 12.7204\n"
     ]
    },
    {
     "name": "stderr",
     "output_type": "stream",
     "text": [
      "Evaluating: 100%|██████████| 7/7 [00:00<00:00, 56.94it/s]\n"
     ]
    },
    {
     "name": "stdout",
     "output_type": "stream",
     "text": [
      "Validation Start Accuracy: 0.4600\n",
      "Validation End Accuracy: 0.5400\n",
      "Epoch 11\n"
     ]
    },
    {
     "name": "stderr",
     "output_type": "stream",
     "text": [
      "Training: 100%|██████████| 7/7 [00:00<00:00, 15.65it/s]\n"
     ]
    },
    {
     "name": "stdout",
     "output_type": "stream",
     "text": [
      "Epoch 11 Loss: 11.4550\n"
     ]
    },
    {
     "name": "stderr",
     "output_type": "stream",
     "text": [
      "Evaluating: 100%|██████████| 7/7 [00:00<00:00, 52.95it/s]\n"
     ]
    },
    {
     "name": "stdout",
     "output_type": "stream",
     "text": [
      "Validation Start Accuracy: 0.6400\n",
      "Validation End Accuracy: 0.6000\n",
      "Epoch 12\n"
     ]
    },
    {
     "name": "stderr",
     "output_type": "stream",
     "text": [
      "Training: 100%|██████████| 7/7 [00:00<00:00, 15.70it/s]\n"
     ]
    },
    {
     "name": "stdout",
     "output_type": "stream",
     "text": [
      "Epoch 12 Loss: 11.4946\n"
     ]
    },
    {
     "name": "stderr",
     "output_type": "stream",
     "text": [
      "Evaluating: 100%|██████████| 7/7 [00:00<00:00, 53.64it/s]\n"
     ]
    },
    {
     "name": "stdout",
     "output_type": "stream",
     "text": [
      "Validation Start Accuracy: 0.7200\n",
      "Validation End Accuracy: 0.8000\n",
      "Epoch 13\n"
     ]
    },
    {
     "name": "stderr",
     "output_type": "stream",
     "text": [
      "Training: 100%|██████████| 7/7 [00:00<00:00, 15.50it/s]\n"
     ]
    },
    {
     "name": "stdout",
     "output_type": "stream",
     "text": [
      "Epoch 13 Loss: 11.8126\n"
     ]
    },
    {
     "name": "stderr",
     "output_type": "stream",
     "text": [
      "Evaluating: 100%|██████████| 7/7 [00:00<00:00, 54.86it/s]\n"
     ]
    },
    {
     "name": "stdout",
     "output_type": "stream",
     "text": [
      "Validation Start Accuracy: 0.6400\n",
      "Validation End Accuracy: 0.6200\n",
      "Epoch 14\n"
     ]
    },
    {
     "name": "stderr",
     "output_type": "stream",
     "text": [
      "Training: 100%|██████████| 7/7 [00:00<00:00, 15.45it/s]\n"
     ]
    },
    {
     "name": "stdout",
     "output_type": "stream",
     "text": [
      "Epoch 14 Loss: 8.6336\n"
     ]
    },
    {
     "name": "stderr",
     "output_type": "stream",
     "text": [
      "Evaluating: 100%|██████████| 7/7 [00:00<00:00, 57.21it/s]\n"
     ]
    },
    {
     "name": "stdout",
     "output_type": "stream",
     "text": [
      "Validation Start Accuracy: 0.7200\n",
      "Validation End Accuracy: 0.7000\n",
      "Epoch 15\n"
     ]
    },
    {
     "name": "stderr",
     "output_type": "stream",
     "text": [
      "Training: 100%|██████████| 7/7 [00:00<00:00, 15.70it/s]\n"
     ]
    },
    {
     "name": "stdout",
     "output_type": "stream",
     "text": [
      "Epoch 15 Loss: 7.6855\n"
     ]
    },
    {
     "name": "stderr",
     "output_type": "stream",
     "text": [
      "Evaluating: 100%|██████████| 7/7 [00:00<00:00, 56.65it/s]\n"
     ]
    },
    {
     "name": "stdout",
     "output_type": "stream",
     "text": [
      "Validation Start Accuracy: 0.8400\n",
      "Validation End Accuracy: 0.8400\n"
     ]
    }
   ],
   "source": [
    "from sklearn.metrics import accuracy_score\n",
    "\n",
    "# Evaluation function\n",
    "def evaluate(model, dataloader):\n",
    "    model.eval()\n",
    "    total = 0\n",
    "    correct_start = 0\n",
    "    correct_end = 0\n",
    "\n",
    "    with torch.no_grad():\n",
    "        for batch in tqdm(dataloader, desc=\"Evaluating\"):\n",
    "            input_ids = batch[\"input_ids\"].to(device)\n",
    "            attention_mask = batch[\"attention_mask\"].to(device)\n",
    "            start_positions = batch[\"start_token_idx\"].to(device)\n",
    "            end_positions = batch[\"end_token_idx\"].to(device)\n",
    "\n",
    "            # Forward pass\n",
    "            outputs = model(\n",
    "                input_ids=input_ids,\n",
    "                attention_mask=attention_mask,\n",
    "            )\n",
    "\n",
    "            start_predictions = torch.argmax(outputs.start_logits, dim=1)\n",
    "            end_predictions = torch.argmax(outputs.end_logits, dim=1)\n",
    "\n",
    "            # Calculating metrics\n",
    "            total += start_positions.size(0)\n",
    "            correct_start += (start_predictions == start_positions).sum().item()\n",
    "            correct_end += (end_predictions == end_positions).sum().item()\n",
    "\n",
    "    start_accuracy = correct_start / total\n",
    "    end_accuracy = correct_end / total\n",
    "    return start_accuracy, end_accuracy\n",
    "    \n",
    "epochs=15\n",
    "def train_and_evaluate(model, train_loader, val_loader, optimizer, epochs):\n",
    "    for epoch in range(epochs):\n",
    "        print(f\"Epoch {epoch + 1}\")\n",
    "        model.train()\n",
    "        epoch_loss = 0\n",
    "\n",
    "        for batch in tqdm(train_loader, desc=\"Training\"):\n",
    "            optimizer.zero_grad()\n",
    "\n",
    "            input_ids = batch[\"input_ids\"].to(device)\n",
    "            attention_mask = batch[\"attention_mask\"].to(device)\n",
    "            start_positions = batch[\"start_token_idx\"].to(device)\n",
    "            end_positions = batch[\"end_token_idx\"].to(device)\n",
    "\n",
    "            # Forward pass\n",
    "            outputs = model(\n",
    "                input_ids=input_ids,\n",
    "                attention_mask=attention_mask,\n",
    "                start_positions=start_positions,\n",
    "                end_positions=end_positions,\n",
    "            )\n",
    "\n",
    "            loss = outputs.loss\n",
    "            epoch_loss += loss.item()\n",
    "\n",
    "            # Backward pass\n",
    "            loss.backward()\n",
    "            optimizer.step()\n",
    "\n",
    "        print(f\"Epoch {epoch + 1} Loss: {epoch_loss:.4f}\")\n",
    "        start_acc, end_acc = evaluate(model, val_loader)\n",
    "        print(f\"Validation Start Accuracy: {start_acc:.4f}\")\n",
    "        print(f\"Validation End Accuracy: {end_acc:.4f}\")\n",
    "\n",
    "val_loader = DataLoader(processed_dataset, batch_size=8, shuffle=False)\n",
    "train_and_evaluate(model, train_loader, val_loader, optimizer, epochs)\n",
    "model.save_pretrained(\"./bert-qna-model\")\n"
   ]
  },
  {
   "cell_type": "code",
   "execution_count": 7,
   "id": "6730ddb9-2f0f-4149-8def-14ea37b9a04c",
   "metadata": {},
   "outputs": [
    {
     "name": "stderr",
     "output_type": "stream",
     "text": [
      "Performing Inference:   0%|          | 0/7 [00:00<?, ?it/s]"
     ]
    },
    {
     "name": "stdout",
     "output_type": "stream",
     "text": [
      "Example 1\n",
      "Context: [CLS] when did beyonce start becoming popular? [SEP] beyonce giselle knowles - carter ( / biːˈjɒnseɪ / bee - yon - say ) ( born september 4, 1981 ) is an american singer, songwriter, record producer and actress. born and raised in houston, texas, she performed in various singing and dancing competitions as a child, and rose to fame in the late 1990s as lead singer of r & b girl - group destiny ' s child. managed by her father, mathew knowles, the group became one of the world ' s best - selling girl groups of all time. their hiatus saw the release of beyonce ' s debut album, dangerously in love ( 2003 ), which established her as a solo artist worldwide, earned five grammy awards and featured the billboard hot 100 number - one singles \" crazy in love \" and \" baby boy \". [SEP]\n",
      "Predicted Answer: late 1990s\n",
      "Ground Truth Answer: in the late 1990s\n",
      "--------------------------------------------------------------------------------\n",
      "Example 2\n",
      "Context: [CLS] what areas did beyonce compete in when she was growing up? [SEP] beyonce giselle knowles - carter ( / biːˈjɒnseɪ / bee - yon - say ) ( born september 4, 1981 ) is an american singer, songwriter, record producer and actress. born and raised in houston, texas, she performed in various singing and dancing competitions as a child, and rose to fame in the late 1990s as lead singer of r & b girl - group destiny ' s child. managed by her father, mathew knowles, the group became one of the world ' s best - selling girl groups of all time. their hiatus saw the release of beyonce ' s debut album, dangerously in love ( 2003 ), which established her as a solo artist worldwide, earned five grammy awards and featured the billboard hot 100 number - one singles \" crazy in love \" and \" baby boy \". [SEP]\n",
      "Predicted Answer: singing and dancing\n",
      "Ground Truth Answer: singing and dancing\n",
      "--------------------------------------------------------------------------------\n",
      "Example 3\n",
      "Context: [CLS] when did beyonce leave destiny ' s child and become a solo singer? [SEP] beyonce giselle knowles - carter ( / biːˈjɒnseɪ / bee - yon - say ) ( born september 4, 1981 ) is an american singer, songwriter, record producer and actress. born and raised in houston, texas, she performed in various singing and dancing competitions as a child, and rose to fame in the late 1990s as lead singer of r & b girl - group destiny ' s child. managed by her father, mathew knowles, the group became one of the world ' s best - selling girl groups of all time. their hiatus saw the release of beyonce ' s debut album, dangerously in love ( 2003 ), which established her as a solo artist worldwide, earned five grammy awards and featured the billboard hot 100 number - one singles \" crazy in love \" and \" baby boy \". [SEP]\n",
      "Predicted Answer: 2003\n",
      "Ground Truth Answer: 2003\n",
      "--------------------------------------------------------------------------------\n",
      "Example 4\n",
      "Context: [CLS] in what city and state did beyonce grow up? [SEP] beyonce giselle knowles - carter ( / biːˈjɒnseɪ / bee - yon - say ) ( born september 4, 1981 ) is an american singer, songwriter, record producer and actress. born and raised in houston, texas, she performed in various singing and dancing competitions as a child, and rose to fame in the late 1990s as lead singer of r & b girl - group destiny ' s child. managed by her father, mathew knowles, the group became one of the world ' s best - selling girl groups of all time. their hiatus saw the release of beyonce ' s debut album, dangerously in love ( 2003 ), which established her as a solo artist worldwide, earned five grammy awards and featured the billboard hot 100 number - one singles \" crazy in love \" and \" baby boy \". [SEP]\n",
      "Predicted Answer: houston, texas\n",
      "Ground Truth Answer: houston, texas\n",
      "--------------------------------------------------------------------------------\n",
      "Example 5\n",
      "Context: [CLS] in which decade did beyonce become famous? [SEP] beyonce giselle knowles - carter ( / biːˈjɒnseɪ / bee - yon - say ) ( born september 4, 1981 ) is an american singer, songwriter, record producer and actress. born and raised in houston, texas, she performed in various singing and dancing competitions as a child, and rose to fame in the late 1990s as lead singer of r & b girl - group destiny ' s child. managed by her father, mathew knowles, the group became one of the world ' s best - selling girl groups of all time. their hiatus saw the release of beyonce ' s debut album, dangerously in love ( 2003 ), which established her as a solo artist worldwide, earned five grammy awards and featured the billboard hot 100 number - one singles \" crazy in love \" and \" baby boy \". [SEP]\n",
      "Predicted Answer: late 1990s\n",
      "Ground Truth Answer: late 1990s\n",
      "--------------------------------------------------------------------------------\n"
     ]
    },
    {
     "name": "stderr",
     "output_type": "stream",
     "text": [
      "\n"
     ]
    }
   ],
   "source": [
    "def perform_inference_fixed_v3(model, dataloader, tokenizer, num_samples=5):\n",
    "    \"\"\"\n",
    "    Perform inference and display predicted vs. ground truth answers with better handling.\n",
    "\n",
    "    Args:\n",
    "        model: Trained BERT model for QnA.\n",
    "        dataloader: DataLoader for the test/validation set.\n",
    "        tokenizer: Tokenizer used for BERT.\n",
    "        num_samples: Number of examples to display.\n",
    "\n",
    "    Returns:\n",
    "        None\n",
    "    \"\"\"\n",
    "    model.eval()\n",
    "    predictions = []\n",
    "    ground_truths = []\n",
    "    contexts = []\n",
    "\n",
    "    with torch.no_grad():\n",
    "        for batch in tqdm(dataloader, desc=\"Performing Inference\"):\n",
    "            input_ids = batch[\"input_ids\"].to(device)\n",
    "            attention_mask = batch[\"attention_mask\"].to(device)\n",
    "            start_positions = batch[\"start_token_idx\"].to(device)\n",
    "            end_positions = batch[\"end_token_idx\"].to(device)\n",
    "\n",
    "            # Forward pass\n",
    "            outputs = model(input_ids=input_ids, attention_mask=attention_mask)\n",
    "\n",
    "            start_predictions = torch.argmax(outputs.start_logits, dim=1)\n",
    "            end_predictions = torch.argmax(outputs.end_logits, dim=1)\n",
    "\n",
    "            for i in range(input_ids.size(0)):\n",
    "                tokens = tokenizer.convert_ids_to_tokens(input_ids[i])\n",
    "                context_tokens = tokens[:attention_mask[i].sum().item()]  # Remove padding\n",
    "                context = tokenizer.convert_tokens_to_string(context_tokens)\n",
    "\n",
    "                # Prediction answer\n",
    "                if (\n",
    "                    start_predictions[i] < len(context_tokens)\n",
    "                    and end_predictions[i] < len(context_tokens)\n",
    "                    and start_predictions[i] <= end_predictions[i]\n",
    "                ):\n",
    "                    predicted_answer = tokenizer.convert_tokens_to_string(\n",
    "                        context_tokens[start_predictions[i]:end_predictions[i] + 1]\n",
    "                    ).strip()\n",
    "                else:\n",
    "                    predicted_answer = \"[INVALID PREDICTION]\"\n",
    "\n",
    "                # Ground truth answer\n",
    "                if start_positions[i] < len(context_tokens) and end_positions[i] < len(context_tokens):\n",
    "                    ground_truth_answer = tokenizer.convert_tokens_to_string(\n",
    "                        context_tokens[start_positions[i]:end_positions[i] + 1]\n",
    "                    ).strip()\n",
    "                else:\n",
    "                    ground_truth_answer = \"[INVALID GROUND TRUTH]\"\n",
    "\n",
    "                contexts.append(context)\n",
    "                predictions.append(predicted_answer)\n",
    "                ground_truths.append(ground_truth_answer)\n",
    "\n",
    "                if len(predictions) >= num_samples:\n",
    "                    break\n",
    "            if len(predictions) >= num_samples:\n",
    "                break\n",
    "\n",
    "    for i in range(len(predictions)):\n",
    "        print(f\"Example {i + 1}\")\n",
    "        print(f\"Context: {contexts[i]}\")\n",
    "        print(f\"Predicted Answer: {predictions[i]}\")\n",
    "        print(f\"Ground Truth Answer: {ground_truths[i]}\")\n",
    "        print(\"-\" * 80)\n",
    "\n",
    "perform_inference_fixed_v3(model, val_loader, tokenizer, num_samples=5)\n"
   ]
  },
  {
   "cell_type": "code",
   "execution_count": 9,
   "id": "689b1fbf-40bc-47fc-8f67-638247867e5d",
   "metadata": {},
   "outputs": [
    {
     "name": "stderr",
     "output_type": "stream",
     "text": [
      "Performing Inference:  29%|██▊       | 2/7 [00:00<00:01,  4.34it/s]"
     ]
    },
    {
     "name": "stdout",
     "output_type": "stream",
     "text": [
      "Example 1\n",
      "Context: [CLS] when did beyonce start becoming popular? [SEP] beyonce giselle knowles - carter ( / biːˈjɒnseɪ / bee - yon - say ) ( born september 4, 1981 ) is an american singer, songwriter, record producer and actress. born and raised in houston, texas, she performed in various singing and dancing competitions as a child, and rose to fame in the late 1990s as lead singer of r & b girl - group destiny ' s child. managed by her father, mathew knowles, the group became one of the world ' s best - selling girl groups of all time. their hiatus saw the release of beyonce ' s debut album, dangerously in love ( 2003 ), which established her as a solo artist worldwide, earned five grammy awards and featured the billboard hot 100 number - one singles \" crazy in love \" and \" baby boy \". [SEP]\n",
      "Predicted Answer: late 1990s\n",
      "Ground Truth Answer: in the late 1990s\n",
      "--------------------------------------------------------------------------------\n",
      "Example 2\n",
      "Context: [CLS] what areas did beyonce compete in when she was growing up? [SEP] beyonce giselle knowles - carter ( / biːˈjɒnseɪ / bee - yon - say ) ( born september 4, 1981 ) is an american singer, songwriter, record producer and actress. born and raised in houston, texas, she performed in various singing and dancing competitions as a child, and rose to fame in the late 1990s as lead singer of r & b girl - group destiny ' s child. managed by her father, mathew knowles, the group became one of the world ' s best - selling girl groups of all time. their hiatus saw the release of beyonce ' s debut album, dangerously in love ( 2003 ), which established her as a solo artist worldwide, earned five grammy awards and featured the billboard hot 100 number - one singles \" crazy in love \" and \" baby boy \". [SEP]\n",
      "Predicted Answer: singing and dancing\n",
      "Ground Truth Answer: singing and dancing\n",
      "--------------------------------------------------------------------------------\n",
      "Example 3\n",
      "Context: [CLS] when did beyonce leave destiny ' s child and become a solo singer? [SEP] beyonce giselle knowles - carter ( / biːˈjɒnseɪ / bee - yon - say ) ( born september 4, 1981 ) is an american singer, songwriter, record producer and actress. born and raised in houston, texas, she performed in various singing and dancing competitions as a child, and rose to fame in the late 1990s as lead singer of r & b girl - group destiny ' s child. managed by her father, mathew knowles, the group became one of the world ' s best - selling girl groups of all time. their hiatus saw the release of beyonce ' s debut album, dangerously in love ( 2003 ), which established her as a solo artist worldwide, earned five grammy awards and featured the billboard hot 100 number - one singles \" crazy in love \" and \" baby boy \". [SEP]\n",
      "Predicted Answer: 2003\n",
      "Ground Truth Answer: 2003\n",
      "--------------------------------------------------------------------------------\n",
      "Example 4\n",
      "Context: [CLS] in what city and state did beyonce grow up? [SEP] beyonce giselle knowles - carter ( / biːˈjɒnseɪ / bee - yon - say ) ( born september 4, 1981 ) is an american singer, songwriter, record producer and actress. born and raised in houston, texas, she performed in various singing and dancing competitions as a child, and rose to fame in the late 1990s as lead singer of r & b girl - group destiny ' s child. managed by her father, mathew knowles, the group became one of the world ' s best - selling girl groups of all time. their hiatus saw the release of beyonce ' s debut album, dangerously in love ( 2003 ), which established her as a solo artist worldwide, earned five grammy awards and featured the billboard hot 100 number - one singles \" crazy in love \" and \" baby boy \". [SEP]\n",
      "Predicted Answer: houston, texas\n",
      "Ground Truth Answer: houston, texas\n",
      "--------------------------------------------------------------------------------\n",
      "Example 5\n",
      "Context: [CLS] in which decade did beyonce become famous? [SEP] beyonce giselle knowles - carter ( / biːˈjɒnseɪ / bee - yon - say ) ( born september 4, 1981 ) is an american singer, songwriter, record producer and actress. born and raised in houston, texas, she performed in various singing and dancing competitions as a child, and rose to fame in the late 1990s as lead singer of r & b girl - group destiny ' s child. managed by her father, mathew knowles, the group became one of the world ' s best - selling girl groups of all time. their hiatus saw the release of beyonce ' s debut album, dangerously in love ( 2003 ), which established her as a solo artist worldwide, earned five grammy awards and featured the billboard hot 100 number - one singles \" crazy in love \" and \" baby boy \". [SEP]\n",
      "Predicted Answer: late 1990s\n",
      "Ground Truth Answer: late 1990s\n",
      "--------------------------------------------------------------------------------\n",
      "Example 6\n",
      "Context: [CLS] in what r & b group was she the lead singer? [SEP] beyonce giselle knowles - carter ( / biːˈjɒnseɪ / bee - yon - say ) ( born september 4, 1981 ) is an american singer, songwriter, record producer and actress. born and raised in houston, texas, she performed in various singing and dancing competitions as a child, and rose to fame in the late 1990s as lead singer of r & b girl - group destiny ' s child. managed by her father, mathew knowles, the group became one of the world ' s best - selling girl groups of all time. their hiatus saw the release of beyonce ' s debut album, dangerously in love ( 2003 ), which established her as a solo artist worldwide, earned five grammy awards and featured the billboard hot 100 number - one singles \" crazy in love \" and \" baby boy \". [SEP]\n",
      "Predicted Answer: [INVALID PREDICTION]\n",
      "Ground Truth Answer: destiny ' s child\n",
      "--------------------------------------------------------------------------------\n",
      "Example 7\n",
      "Context: [CLS] what album made her a worldwide known artist? [SEP] beyonce giselle knowles - carter ( / biːˈjɒnseɪ / bee - yon - say ) ( born september 4, 1981 ) is an american singer, songwriter, record producer and actress. born and raised in houston, texas, she performed in various singing and dancing competitions as a child, and rose to fame in the late 1990s as lead singer of r & b girl - group destiny ' s child. managed by her father, mathew knowles, the group became one of the world ' s best - selling girl groups of all time. their hiatus saw the release of beyonce ' s debut album, dangerously in love ( 2003 ), which established her as a solo artist worldwide, earned five grammy awards and featured the billboard hot 100 number - one singles \" crazy in love \" and \" baby boy \". [SEP]\n",
      "Predicted Answer: dangerously in love\n",
      "Ground Truth Answer: dangerously in love\n",
      "--------------------------------------------------------------------------------\n",
      "Example 8\n",
      "Context: [CLS] who managed the destiny ' s child group? [SEP] beyonce giselle knowles - carter ( / biːˈjɒnseɪ / bee - yon - say ) ( born september 4, 1981 ) is an american singer, songwriter, record producer and actress. born and raised in houston, texas, she performed in various singing and dancing competitions as a child, and rose to fame in the late 1990s as lead singer of r & b girl - group destiny ' s child. managed by her father, mathew knowles, the group became one of the world ' s best - selling girl groups of all time. their hiatus saw the release of beyonce ' s debut album, dangerously in love ( 2003 ), which established her as a solo artist worldwide, earned five grammy awards and featured the billboard hot 100 number - one singles \" crazy in love \" and \" baby boy \". [SEP]\n",
      "Predicted Answer: mathew knowles\n",
      "Ground Truth Answer: mathew knowles\n",
      "--------------------------------------------------------------------------------\n",
      "Example 9\n",
      "Context: [CLS] when did beyonce rise to fame? [SEP] beyonce giselle knowles - carter ( / biːˈjɒnseɪ / bee - yon - say ) ( born september 4, 1981 ) is an american singer, songwriter, record producer and actress. born and raised in houston, texas, she performed in various singing and dancing competitions as a child, and rose to fame in the late 1990s as lead singer of r & b girl - group destiny ' s child. managed by her father, mathew knowles, the group became one of the world ' s best - selling girl groups of all time. their hiatus saw the release of beyonce ' s debut album, dangerously in love ( 2003 ), which established her as a solo artist worldwide, earned five grammy awards and featured the billboard hot 100 number - one singles \" crazy in love \" and \" baby boy \". [SEP]\n",
      "Predicted Answer: late 1990s\n",
      "Ground Truth Answer: late 1990s\n",
      "--------------------------------------------------------------------------------\n",
      "Example 10\n",
      "Context: [CLS] what role did beyonce have in destiny ' s child? [SEP] beyonce giselle knowles - carter ( / biːˈjɒnseɪ / bee - yon - say ) ( born september 4, 1981 ) is an american singer, songwriter, record producer and actress. born and raised in houston, texas, she performed in various singing and dancing competitions as a child, and rose to fame in the late 1990s as lead singer of r & b girl - group destiny ' s child. managed by her father, mathew knowles, the group became one of the world ' s best - selling girl groups of all time. their hiatus saw the release of beyonce ' s debut album, dangerously in love ( 2003 ), which established her as a solo artist worldwide, earned five grammy awards and featured the billboard hot 100 number - one singles \" crazy in love \" and \" baby boy \". [SEP]\n",
      "Predicted Answer: lead singer\n",
      "Ground Truth Answer: lead singer\n",
      "--------------------------------------------------------------------------------\n",
      "Example 11\n",
      "Context: [CLS] what was the first album beyonce released as a solo artist? [SEP] beyonce giselle knowles - carter ( / biːˈjɒnseɪ / bee - yon - say ) ( born september 4, 1981 ) is an american singer, songwriter, record producer and actress. born and raised in houston, texas, she performed in various singing and dancing competitions as a child, and rose to fame in the late 1990s as lead singer of r & b girl - group destiny ' s child. managed by her father, mathew knowles, the group became one of the world ' s best - selling girl groups of all time. their hiatus saw the release of beyonce ' s debut album, dangerously in love ( 2003 ), which established her as a solo artist worldwide, earned five grammy awards and featured the billboard hot 100 number - one singles \" crazy in love \" and \" baby boy \". [SEP]\n",
      "Predicted Answer: lead singer of r & b girl - group destiny ' s child. managed by her father, mathew knowles, the group became one of the world ' s best - selling girl groups of all time. their hiatus saw the release of beyonce ' s debut album, dangerously in love\n",
      "Ground Truth Answer: dangerously in love\n",
      "--------------------------------------------------------------------------------\n",
      "Example 12\n",
      "Context: [CLS] when did beyonce release dangerously in love? [SEP] beyonce giselle knowles - carter ( / biːˈjɒnseɪ / bee - yon - say ) ( born september 4, 1981 ) is an american singer, songwriter, record producer and actress. born and raised in houston, texas, she performed in various singing and dancing competitions as a child, and rose to fame in the late 1990s as lead singer of r & b girl - group destiny ' s child. managed by her father, mathew knowles, the group became one of the world ' s best - selling girl groups of all time. their hiatus saw the release of beyonce ' s debut album, dangerously in love ( 2003 ), which established her as a solo artist worldwide, earned five grammy awards and featured the billboard hot 100 number - one singles \" crazy in love \" and \" baby boy \". [SEP]\n",
      "Predicted Answer: 2003\n",
      "Ground Truth Answer: 2003\n",
      "--------------------------------------------------------------------------------\n",
      "Example 13\n",
      "Context: [CLS] how many grammy awards did beyonce win for her first solo album? [SEP] beyonce giselle knowles - carter ( / biːˈjɒnseɪ / bee - yon - say ) ( born september 4, 1981 ) is an american singer, songwriter, record producer and actress. born and raised in houston, texas, she performed in various singing and dancing competitions as a child, and rose to fame in the late 1990s as lead singer of r & b girl - group destiny ' s child. managed by her father, mathew knowles, the group became one of the world ' s best - selling girl groups of all time. their hiatus saw the release of beyonce ' s debut album, dangerously in love ( 2003 ), which established her as a solo artist worldwide, earned five grammy awards and featured the billboard hot 100 number - one singles \" crazy in love \" and \" baby boy \". [SEP]\n",
      "Predicted Answer: five\n",
      "Ground Truth Answer: five\n",
      "--------------------------------------------------------------------------------\n",
      "Example 14\n",
      "Context: [CLS] what was beyonce ' s role in destiny ' s child? [SEP] beyonce giselle knowles - carter ( / biːˈjɒnseɪ / bee - yon - say ) ( born september 4, 1981 ) is an american singer, songwriter, record producer and actress. born and raised in houston, texas, she performed in various singing and dancing competitions as a child, and rose to fame in the late 1990s as lead singer of r & b girl - group destiny ' s child. managed by her father, mathew knowles, the group became one of the world ' s best - selling girl groups of all time. their hiatus saw the release of beyonce ' s debut album, dangerously in love ( 2003 ), which established her as a solo artist worldwide, earned five grammy awards and featured the billboard hot 100 number - one singles \" crazy in love \" and \" baby boy \". [SEP]\n",
      "Predicted Answer: lead singer\n",
      "Ground Truth Answer: lead singer\n",
      "--------------------------------------------------------------------------------\n",
      "Example 15\n",
      "Context: [CLS] what was the name of beyonce ' s first solo album? [SEP] beyonce giselle knowles - carter ( / biːˈjɒnseɪ / bee - yon - say ) ( born september 4, 1981 ) is an american singer, songwriter, record producer and actress. born and raised in houston, texas, she performed in various singing and dancing competitions as a child, and rose to fame in the late 1990s as lead singer of r & b girl - group destiny ' s child. managed by her father, mathew knowles, the group became one of the world ' s best - selling girl groups of all time. their hiatus saw the release of beyonce ' s debut album, dangerously in love ( 2003 ), which established her as a solo artist worldwide, earned five grammy awards and featured the billboard hot 100 number - one singles \" crazy in love \" and \" baby boy \". [SEP]\n",
      "Predicted Answer: lead singer of r & b girl - group destiny ' s child. managed by her father, mathew knowles, the group became one of the world ' s best - selling girl groups of all time. their hiatus saw the release of beyonce ' s debut album, dangerously in love\n",
      "Ground Truth Answer: dangerously in love\n",
      "--------------------------------------------------------------------------------\n",
      "Example 16\n",
      "Context: [CLS] after her second solo album, what other entertainment venture did beyonce explore? [SEP] following the disbandment of destiny ' s child in june 2005, she released her second solo album, b ' day ( 2006 ), which contained hits \" deja vu \", \" irreplaceable \", and \" beautiful liar \". beyonce also ventured into acting, with a golden globe - nominated performance in dreamgirls ( 2006 ), and starring roles in the pink panther ( 2006 ) and obsessed ( 2009 ). her marriage to rapper jay z and portrayal of etta james in cadillac records ( 2008 ) influenced her third album, i am... sasha fierce ( 2008 ), which saw the birth of her alter - ego sasha fierce and earned a record - setting six grammy awards in 2010, including song of the year for \" single ladies ( put a ring on it ) \". beyonce took a hiatus from music in 2010 and took over management of her career ; her fourth album 4 ( 2011 ) was subsequently mellower in tone, exploring 1970s funk, 1980s pop, and 1990s soul. her critically acclaimed fifth studio album, beyonce ( 2013 ), was distinguished from previous releases by its experimental production and exploration of darker themes. [SEP]\n",
      "Predicted Answer: cadillac records\n",
      "Ground Truth Answer: acting\n",
      "--------------------------------------------------------------------------------\n",
      "Example 17\n",
      "Context: [CLS] which artist did beyonce marry? [SEP] following the disbandment of destiny ' s child in june 2005, she released her second solo album, b ' day ( 2006 ), which contained hits \" deja vu \", \" irreplaceable \", and \" beautiful liar \". beyonce also ventured into acting, with a golden globe - nominated performance in dreamgirls ( 2006 ), and starring roles in the pink panther ( 2006 ) and obsessed ( 2009 ). her marriage to rapper jay z and portrayal of etta james in cadillac records ( 2008 ) influenced her third album, i am... sasha fierce ( 2008 ), which saw the birth of her alter - ego sasha fierce and earned a record - setting six grammy awards in 2010, including song of the year for \" single ladies ( put a ring on it ) \". beyonce took a hiatus from music in 2010 and took over management of her career ; her fourth album 4 ( 2011 ) was subsequently mellower in tone, exploring 1970s funk, 1980s pop, and 1990s soul. her critically acclaimed fifth studio album, beyonce ( 2013 ), was distinguished from previous releases by its experimental production and exploration of darker themes. [SEP]\n",
      "Predicted Answer: jay z\n",
      "Ground Truth Answer: jay z\n",
      "--------------------------------------------------------------------------------\n",
      "Example 18\n",
      "Context: [CLS] to set the record for grammys, how many did beyonce win? [SEP] following the disbandment of destiny ' s child in june 2005, she released her second solo album, b ' day ( 2006 ), which contained hits \" deja vu \", \" irreplaceable \", and \" beautiful liar \". beyonce also ventured into acting, with a golden globe - nominated performance in dreamgirls ( 2006 ), and starring roles in the pink panther ( 2006 ) and obsessed ( 2009 ). her marriage to rapper jay z and portrayal of etta james in cadillac records ( 2008 ) influenced her third album, i am... sasha fierce ( 2008 ), which saw the birth of her alter - ego sasha fierce and earned a record - setting six grammy awards in 2010, including song of the year for \" single ladies ( put a ring on it ) \". beyonce took a hiatus from music in 2010 and took over management of her career ; her fourth album 4 ( 2011 ) was subsequently mellower in tone, exploring 1970s funk, 1980s pop, and 1990s soul. her critically acclaimed fifth studio album, beyonce ( 2013 ), was distinguished from previous releases by its experimental production and exploration of darker themes. [SEP]\n",
      "Predicted Answer: six\n",
      "Ground Truth Answer: six\n",
      "--------------------------------------------------------------------------------\n",
      "Example 19\n",
      "Context: [CLS] for what movie did beyonce receive her first golden globe nomination? [SEP] following the disbandment of destiny ' s child in june 2005, she released her second solo album, b ' day ( 2006 ), which contained hits \" deja vu \", \" irreplaceable \", and \" beautiful liar \". beyonce also ventured into acting, with a golden globe - nominated performance in dreamgirls ( 2006 ), and starring roles in the pink panther ( 2006 ) and obsessed ( 2009 ). her marriage to rapper jay z and portrayal of etta james in cadillac records ( 2008 ) influenced her third album, i am... sasha fierce ( 2008 ), which saw the birth of her alter - ego sasha fierce and earned a record - setting six grammy awards in 2010, including song of the year for \" single ladies ( put a ring on it ) \". beyonce took a hiatus from music in 2010 and took over management of her career ; her fourth album 4 ( 2011 ) was subsequently mellower in tone, exploring 1970s funk, 1980s pop, and 1990s soul. her critically acclaimed fifth studio album, beyonce ( 2013 ), was distinguished from previous releases by its experimental production and exploration of darker themes. [SEP]\n",
      "Predicted Answer: dreamgirls\n",
      "Ground Truth Answer: dreamgirls\n",
      "--------------------------------------------------------------------------------\n",
      "Example 20\n",
      "Context: [CLS] when did beyonce take a hiatus in her career and take control of her management? [SEP] following the disbandment of destiny ' s child in june 2005, she released her second solo album, b ' day ( 2006 ), which contained hits \" deja vu \", \" irreplaceable \", and \" beautiful liar \". beyonce also ventured into acting, with a golden globe - nominated performance in dreamgirls ( 2006 ), and starring roles in the pink panther ( 2006 ) and obsessed ( 2009 ). her marriage to rapper jay z and portrayal of etta james in cadillac records ( 2008 ) influenced her third album, i am... sasha fierce ( 2008 ), which saw the birth of her alter - ego sasha fierce and earned a record - setting six grammy awards in 2010, including song of the year for \" single ladies ( put a ring on it ) \". beyonce took a hiatus from music in 2010 and took over management of her career ; her fourth album 4 ( 2011 ) was subsequently mellower in tone, exploring 1970s funk, 1980s pop, and 1990s soul. her critically acclaimed fifth studio album, beyonce ( 2013 ), was distinguished from previous releases by its experimental production and exploration of darker themes. [SEP]\n",
      "Predicted Answer: 2010\n",
      "Ground Truth Answer: 2010\n",
      "--------------------------------------------------------------------------------\n"
     ]
    },
    {
     "name": "stderr",
     "output_type": "stream",
     "text": [
      "\n"
     ]
    }
   ],
   "source": [
    "def perform_inference_fixed_v3(model, dataloader, tokenizer, num_samples=20):\n",
    "    \"\"\"\n",
    "    Perform inference and display predicted vs. ground truth answers with better handling.\n",
    "\n",
    "    Args:\n",
    "        model: Trained BERT model for QnA.\n",
    "        dataloader: DataLoader for the test/validation set.\n",
    "        tokenizer: Tokenizer used for BERT.\n",
    "        num_samples: Number of examples to display.\n",
    "\n",
    "    Returns:\n",
    "        None\n",
    "    \"\"\"\n",
    "    model.eval()\n",
    "    predictions = []\n",
    "    ground_truths = []\n",
    "    contexts = []\n",
    "\n",
    "    with torch.no_grad():\n",
    "        for batch in tqdm(dataloader, desc=\"Performing Inference\"):\n",
    "            input_ids = batch[\"input_ids\"].to(device)\n",
    "            attention_mask = batch[\"attention_mask\"].to(device)\n",
    "            start_positions = batch[\"start_token_idx\"].to(device)\n",
    "            end_positions = batch[\"end_token_idx\"].to(device)\n",
    "\n",
    "            # Forward pass\n",
    "            outputs = model(input_ids=input_ids, attention_mask=attention_mask)\n",
    "            start_predictions = torch.argmax(outputs.start_logits, dim=1)\n",
    "            end_predictions = torch.argmax(outputs.end_logits, dim=1)\n",
    "\n",
    "            for i in range(input_ids.size(0)):\n",
    "                tokens = tokenizer.convert_ids_to_tokens(input_ids[i])\n",
    "                context_tokens = tokens[:attention_mask[i].sum().item()]  # Remove padding\n",
    "                context = tokenizer.convert_tokens_to_string(context_tokens)\n",
    "\n",
    "                # Prediction answer\n",
    "                if (\n",
    "                    start_predictions[i] < len(context_tokens)\n",
    "                    and end_predictions[i] < len(context_tokens)\n",
    "                    and start_predictions[i] <= end_predictions[i]\n",
    "                ):\n",
    "                    predicted_answer = tokenizer.convert_tokens_to_string(\n",
    "                        context_tokens[start_predictions[i]:end_predictions[i] + 1]\n",
    "                    ).strip()\n",
    "                else:\n",
    "                    predicted_answer = \"[INVALID PREDICTION]\"\n",
    "\n",
    "                # Ground truth answer\n",
    "                if start_positions[i] < len(context_tokens) and end_positions[i] < len(context_tokens):\n",
    "                    ground_truth_answer = tokenizer.convert_tokens_to_string(\n",
    "                        context_tokens[start_positions[i]:end_positions[i] + 1]\n",
    "                    ).strip()\n",
    "                else:\n",
    "                    ground_truth_answer = \"[INVALID GROUND TRUTH]\"\n",
    "\n",
    "                contexts.append(context)\n",
    "                predictions.append(predicted_answer)\n",
    "                ground_truths.append(ground_truth_answer)\n",
    "\n",
    "                if len(predictions) >= num_samples:\n",
    "                    break\n",
    "            if len(predictions) >= num_samples:\n",
    "                break\n",
    "\n",
    "    for i in range(len(predictions)):\n",
    "        print(f\"Example {i + 1}\")\n",
    "        print(f\"Context: {contexts[i]}\")\n",
    "        print(f\"Predicted Answer: {predictions[i]}\")\n",
    "        print(f\"Ground Truth Answer: {ground_truths[i]}\")\n",
    "        print(\"-\" * 80)\n",
    "\n",
    "perform_inference_fixed_v3(model, val_loader, tokenizer, num_samples=20)"
   ]
  },
  {
   "cell_type": "markdown",
   "id": "3f7d69bb-7aa4-4635-8417-718e8e47f254",
   "metadata": {},
   "source": [
    "Experimented with 50 samples by training the model with 15 epochs it predicted correctly for 5 samples but when I checked for 20 samples, some predictions are wrong which is because the samples are minimal and training epochs are minimal so below experimented with 70 samples and trained model with 25 epochs."
   ]
  },
  {
   "cell_type": "code",
   "execution_count": null,
   "id": "be197e93-1d85-4bcd-89b4-2f1f0c830e12",
   "metadata": {},
   "outputs": [],
   "source": []
  },
  {
   "cell_type": "code",
   "execution_count": 10,
   "id": "182fe633-df68-46a7-a4e8-1c4d2bac50b2",
   "metadata": {},
   "outputs": [
    {
     "name": "stdout",
     "output_type": "stream",
     "text": [
      "Displaying 5 random QnA samples:\n",
      "\n",
      "Sample 1:\n",
      "Context: Beyoncé attended St. Mary's Elementary School in Fredericksburg, Texas, where she enrolled in dance classes. Her singing talent was discovered when dance instructor Darlette Johnson began humming a song and she finished it, able to hit the high-pitched notes. Beyoncé's interest in music and performing continued after winning a school talent show at age seven, singing John Lennon's \"Imagine\" to beat 15/16-year-olds. In fall of 1990, Beyoncé enrolled in Parker Elementary School, a music magnet school in Houston, where she would perform with the school's choir. She also attended the High School for the Performing and Visual Arts and later Alief Elsik High School. Beyoncé was also a member of the choir at St. John's United Methodist Church as a soloist for two years.\n",
      "Question: Beyonce moved to which town after she left her first elementary school?\n",
      "Answer: Houston\n",
      "--------------------------------------------------------------------------------\n",
      "Sample 2:\n",
      "Context: Beyoncé attended St. Mary's Elementary School in Fredericksburg, Texas, where she enrolled in dance classes. Her singing talent was discovered when dance instructor Darlette Johnson began humming a song and she finished it, able to hit the high-pitched notes. Beyoncé's interest in music and performing continued after winning a school talent show at age seven, singing John Lennon's \"Imagine\" to beat 15/16-year-olds. In fall of 1990, Beyoncé enrolled in Parker Elementary School, a music magnet school in Houston, where she would perform with the school's choir. She also attended the High School for the Performing and Visual Arts and later Alief Elsik High School. Beyoncé was also a member of the choir at St. John's United Methodist Church as a soloist for two years.\n",
      "Question: Which of her teachers discovered Beyonce's musical talent?\n",
      "Answer: dance instructor Darlette Johnson\n",
      "--------------------------------------------------------------------------------\n",
      "Sample 3:\n",
      "Context: A self-described \"modern-day feminist\", Beyoncé creates songs that are often characterized by themes of love, relationships, and monogamy, as well as female sexuality and empowerment. On stage, her dynamic, highly choreographed performances have led to critics hailing her as one of the best entertainers in contemporary popular music. Throughout a career spanning 19 years, she has sold over 118 million records as a solo artist, and a further 60 million with Destiny's Child, making her one of the best-selling music artists of all time. She has won 20 Grammy Awards and is the most nominated woman in the award's history. The Recording Industry Association of America recognized her as the Top Certified Artist in America during the 2000s decade. In 2009, Billboard named her the Top Radio Songs Artist of the Decade, the Top Female Artist of the 2000s and their Artist of the Millennium in 2011. Time listed her among the 100 most influential people in the world in 2013 and 2014. Forbes magazine also listed her as the most powerful female musician of 2015.\n",
      "Question: In which decade did the Recording Industry Association of America recognize Beyonce as the The Top Certified Artist?\n",
      "Answer: 2000s\n",
      "--------------------------------------------------------------------------------\n",
      "Sample 4:\n",
      "Context: Following the disbandment of Destiny's Child in June 2005, she released her second solo album, B'Day (2006), which contained hits \"Déjà Vu\", \"Irreplaceable\", and \"Beautiful Liar\". Beyoncé also ventured into acting, with a Golden Globe-nominated performance in Dreamgirls (2006), and starring roles in The Pink Panther (2006) and Obsessed (2009). Her marriage to rapper Jay Z and portrayal of Etta James in Cadillac Records (2008) influenced her third album, I Am... Sasha Fierce (2008), which saw the birth of her alter-ego Sasha Fierce and earned a record-setting six Grammy Awards in 2010, including Song of the Year for \"Single Ladies (Put a Ring on It)\". Beyoncé took a hiatus from music in 2010 and took over management of her career; her fourth album 4 (2011) was subsequently mellower in tone, exploring 1970s funk, 1980s pop, and 1990s soul. Her critically acclaimed fifth studio album, Beyoncé (2013), was distinguished from previous releases by its experimental production and exploration of darker themes.\n",
      "Question: Who is Beyoncé married to?\n",
      "Answer: Jay Z\n",
      "--------------------------------------------------------------------------------\n",
      "Sample 5:\n",
      "Context: Following the disbandment of Destiny's Child in June 2005, she released her second solo album, B'Day (2006), which contained hits \"Déjà Vu\", \"Irreplaceable\", and \"Beautiful Liar\". Beyoncé also ventured into acting, with a Golden Globe-nominated performance in Dreamgirls (2006), and starring roles in The Pink Panther (2006) and Obsessed (2009). Her marriage to rapper Jay Z and portrayal of Etta James in Cadillac Records (2008) influenced her third album, I Am... Sasha Fierce (2008), which saw the birth of her alter-ego Sasha Fierce and earned a record-setting six Grammy Awards in 2010, including Song of the Year for \"Single Ladies (Put a Ring on It)\". Beyoncé took a hiatus from music in 2010 and took over management of her career; her fourth album 4 (2011) was subsequently mellower in tone, exploring 1970s funk, 1980s pop, and 1990s soul. Her critically acclaimed fifth studio album, Beyoncé (2013), was distinguished from previous releases by its experimental production and exploration of darker themes.\n",
      "Question: When did Destiny's Child end their group act?\n",
      "Answer: June 2005\n",
      "--------------------------------------------------------------------------------\n"
     ]
    }
   ],
   "source": [
    "import random\n",
    "from datasets import load_dataset\n",
    "\n",
    "min_samples=70\n",
    "# Loading the SQuAD 2.0 dataset \n",
    "def load_squad2_dataset(min_samples):\n",
    "    squad_dataset = load_dataset(\"squad_v2\")\n",
    "\n",
    "    qna_pairs = []\n",
    "    for data in squad_dataset[\"train\"]:\n",
    "        if data[\"answers\"][\"text\"]:\n",
    "            qna_pairs.append({\n",
    "                \"context\": data[\"context\"],\n",
    "                \"question\": data[\"question\"],\n",
    "                \"answer\": data[\"answers\"][\"text\"][0]  # Taking the first answer\n",
    "            })\n",
    "        if len(qna_pairs) >= min_samples:\n",
    "            break\n",
    "    return qna_pairs\n",
    "\n",
    "qna_pairs = load_squad2_dataset(min_samples)\n",
    "\n",
    "# Displaying a few samples\n",
    "def display_samples(samples, num_samples=5):\n",
    "    print(f\"Displaying {num_samples} random QnA samples:\\n\")\n",
    "    random_samples = random.sample(samples, min(num_samples, len(samples)))\n",
    "    for i, sample in enumerate(random_samples, 1):\n",
    "        print(f\"Sample {i}:\")\n",
    "        print(f\"Context: {sample['context']}\")\n",
    "        print(f\"Question: {sample['question']}\")\n",
    "        print(f\"Answer: {sample['answer']}\")\n",
    "        print(\"-\" * 80)\n",
    "\n",
    "display_samples(qna_pairs, num_samples=5)"
   ]
  },
  {
   "cell_type": "code",
   "execution_count": 11,
   "id": "f201304d-3544-4b1b-ae09-23ed84250c08",
   "metadata": {},
   "outputs": [
    {
     "name": "stdout",
     "output_type": "stream",
     "text": [
      "Sample Preprocessed Data:\n",
      "Input IDs: tensor([  101,  2043,  2106, 20773,  2707,  3352,  2759,  1029,   102, 20773,\n",
      "        21025, 19358, 22815,  1011,  5708,  1006,  1013, 12170, 23432, 29715,\n",
      "         3501, 29678, 12325, 29685,  1013, 10506,  1011, 10930,  2078,  1011,\n",
      "         2360,  1007,  1006,  2141,  2244,  1018,  1010,  3261,  1007,  2003,\n",
      "         2019,  2137,  3220,  1010,  6009,  1010,  2501,  3135,  1998,  3883,\n",
      "         1012,  2141,  1998,  2992,  1999,  5395,  1010,  3146,  1010,  2016,\n",
      "         2864,  1999,  2536,  4823,  1998,  5613,  6479,  2004,  1037,  2775,\n",
      "         1010,  1998,  3123,  2000,  4476,  1999,  1996,  2397,  4134,  2004,\n",
      "         2599,  3220,  1997,  1054,  1004,  1038,  2611,  1011,  2177, 10461,\n",
      "         1005,  1055,  2775,  1012,  3266,  2011,  2014,  2269,  1010, 25436,\n",
      "        22815,  1010,  1996,  2177,  2150,  2028,  1997,  1996,  2088,  1005,\n",
      "         1055,  2190,  1011,  4855,  2611,  2967,  1997,  2035,  2051,  1012,\n",
      "         2037, 14221,  2387,  1996,  2713,  1997, 20773,  1005,  1055,  2834,\n",
      "         2201,  1010, 20754,  1999,  2293,  1006,  2494,  1007,  1010,  2029,\n",
      "         2511,  2014,  2004,  1037,  3948,  3063,  4969,  1010,  3687,  2274,\n",
      "         8922,  2982,  1998,  2956,  1996,  4908,  2980,  2531,  2193,  1011,\n",
      "         2028,  3895,  1000,  4689,  1999,  2293,  1000,  1998,  1000,  3336,\n",
      "         2879,  1000,  1012,   102,     0,     0,     0,     0,     0,     0,\n",
      "            0,     0,     0,     0,     0,     0,     0,     0,     0,     0,\n",
      "            0,     0,     0,     0,     0,     0,     0,     0,     0,     0,\n",
      "            0,     0,     0,     0,     0,     0,     0,     0,     0,     0,\n",
      "            0,     0,     0,     0,     0,     0,     0,     0,     0,     0,\n",
      "            0,     0,     0,     0,     0,     0,     0,     0,     0,     0,\n",
      "            0,     0,     0,     0,     0,     0,     0,     0,     0,     0,\n",
      "            0,     0,     0,     0,     0,     0,     0,     0,     0,     0,\n",
      "            0,     0,     0,     0,     0,     0,     0,     0,     0,     0,\n",
      "            0,     0,     0,     0,     0,     0,     0,     0,     0,     0,\n",
      "            0,     0,     0,     0,     0,     0,     0,     0,     0,     0,\n",
      "            0,     0,     0,     0,     0,     0,     0,     0,     0,     0,\n",
      "            0,     0,     0,     0,     0,     0,     0,     0,     0,     0,\n",
      "            0,     0,     0,     0,     0,     0,     0,     0,     0,     0,\n",
      "            0,     0,     0,     0,     0,     0,     0,     0,     0,     0,\n",
      "            0,     0,     0,     0,     0,     0,     0,     0,     0,     0,\n",
      "            0,     0,     0,     0,     0,     0,     0,     0,     0,     0,\n",
      "            0,     0,     0,     0,     0,     0,     0,     0,     0,     0,\n",
      "            0,     0,     0,     0,     0,     0,     0,     0,     0,     0,\n",
      "            0,     0,     0,     0,     0,     0,     0,     0,     0,     0,\n",
      "            0,     0,     0,     0,     0,     0,     0,     0,     0,     0,\n",
      "            0,     0,     0,     0])\n",
      "Attention Mask: tensor([1, 1, 1, 1, 1, 1, 1, 1, 1, 1, 1, 1, 1, 1, 1, 1, 1, 1, 1, 1, 1, 1, 1, 1,\n",
      "        1, 1, 1, 1, 1, 1, 1, 1, 1, 1, 1, 1, 1, 1, 1, 1, 1, 1, 1, 1, 1, 1, 1, 1,\n",
      "        1, 1, 1, 1, 1, 1, 1, 1, 1, 1, 1, 1, 1, 1, 1, 1, 1, 1, 1, 1, 1, 1, 1, 1,\n",
      "        1, 1, 1, 1, 1, 1, 1, 1, 1, 1, 1, 1, 1, 1, 1, 1, 1, 1, 1, 1, 1, 1, 1, 1,\n",
      "        1, 1, 1, 1, 1, 1, 1, 1, 1, 1, 1, 1, 1, 1, 1, 1, 1, 1, 1, 1, 1, 1, 1, 1,\n",
      "        1, 1, 1, 1, 1, 1, 1, 1, 1, 1, 1, 1, 1, 1, 1, 1, 1, 1, 1, 1, 1, 1, 1, 1,\n",
      "        1, 1, 1, 1, 1, 1, 1, 1, 1, 1, 1, 1, 1, 1, 1, 1, 1, 1, 1, 1, 1, 1, 1, 1,\n",
      "        1, 1, 1, 1, 1, 1, 0, 0, 0, 0, 0, 0, 0, 0, 0, 0, 0, 0, 0, 0, 0, 0, 0, 0,\n",
      "        0, 0, 0, 0, 0, 0, 0, 0, 0, 0, 0, 0, 0, 0, 0, 0, 0, 0, 0, 0, 0, 0, 0, 0,\n",
      "        0, 0, 0, 0, 0, 0, 0, 0, 0, 0, 0, 0, 0, 0, 0, 0, 0, 0, 0, 0, 0, 0, 0, 0,\n",
      "        0, 0, 0, 0, 0, 0, 0, 0, 0, 0, 0, 0, 0, 0, 0, 0, 0, 0, 0, 0, 0, 0, 0, 0,\n",
      "        0, 0, 0, 0, 0, 0, 0, 0, 0, 0, 0, 0, 0, 0, 0, 0, 0, 0, 0, 0, 0, 0, 0, 0,\n",
      "        0, 0, 0, 0, 0, 0, 0, 0, 0, 0, 0, 0, 0, 0, 0, 0, 0, 0, 0, 0, 0, 0, 0, 0,\n",
      "        0, 0, 0, 0, 0, 0, 0, 0, 0, 0, 0, 0, 0, 0, 0, 0, 0, 0, 0, 0, 0, 0, 0, 0,\n",
      "        0, 0, 0, 0, 0, 0, 0, 0, 0, 0, 0, 0, 0, 0, 0, 0, 0, 0, 0, 0, 0, 0, 0, 0,\n",
      "        0, 0, 0, 0, 0, 0, 0, 0, 0, 0, 0, 0, 0, 0, 0, 0, 0, 0, 0, 0, 0, 0, 0, 0])\n",
      "Start Token Index: 75\n",
      "End Token Index: 78\n"
     ]
    }
   ],
   "source": [
    "from transformers import BertTokenizerFast\n",
    "\n",
    "# Loading the tokenizer\n",
    "tokenizer = BertTokenizerFast.from_pretrained(\"bert-base-uncased\")\n",
    "\n",
    "def preprocess_bert_format(qna_pairs, max_length=384):\n",
    "    \"\"\"\n",
    "    Preprocess the dataset into BERT-compatible format.\n",
    "\n",
    "    Args:\n",
    "        qna_pairs (list): List of question-answer pairs.\n",
    "        max_length (int): Maximum length for input tokens.\n",
    "\n",
    "    Returns:\n",
    "        processed_data (list): List of dictionaries containing BERT-compatible inputs.\n",
    "    \"\"\"\n",
    "    processed_data = []\n",
    "    for item in qna_pairs:\n",
    "        context = item[\"context\"]\n",
    "        question = item[\"question\"]\n",
    "        answer = item[\"answer\"]\n",
    "\n",
    "        encoding = tokenizer(\n",
    "            question,\n",
    "            context,\n",
    "            max_length=max_length,\n",
    "            truncation=True,\n",
    "            padding=\"max_length\",\n",
    "            return_offsets_mapping=True,\n",
    "            return_tensors=\"pt\"\n",
    "        )\n",
    "\n",
    "        start_char_idx = context.find(answer)\n",
    "        end_char_idx = start_char_idx + len(answer)\n",
    "\n",
    "        offsets = encoding[\"offset_mapping\"][0]\n",
    "        start_token_idx = None\n",
    "        end_token_idx = None\n",
    "\n",
    "        for idx, (start, end) in enumerate(offsets):\n",
    "            if start <= start_char_idx < end:\n",
    "                start_token_idx = idx\n",
    "            if start < end_char_idx <= end:\n",
    "                end_token_idx = idx\n",
    "\n",
    "        if start_token_idx is None or end_token_idx is None:\n",
    "            continue\n",
    "\n",
    "        processed_item = {\n",
    "            \"input_ids\": encoding[\"input_ids\"][0],\n",
    "            \"attention_mask\": encoding[\"attention_mask\"][0],\n",
    "            \"start_token_idx\": start_token_idx,\n",
    "            \"end_token_idx\": end_token_idx,\n",
    "        }\n",
    "        processed_data.append(processed_item)\n",
    "    \n",
    "    return processed_data\n",
    "\n",
    "# Preprocessing\n",
    "processed_qna_pairs = preprocess_bert_format(qna_pairs)\n",
    "print(\"Sample Preprocessed Data:\")\n",
    "print(f\"Input IDs: {processed_qna_pairs[0]['input_ids']}\")\n",
    "print(f\"Attention Mask: {processed_qna_pairs[0]['attention_mask']}\")\n",
    "print(f\"Start Token Index: {processed_qna_pairs[0]['start_token_idx']}\")\n",
    "print(f\"End Token Index: {processed_qna_pairs[0]['end_token_idx']}\")"
   ]
  },
  {
   "cell_type": "code",
   "execution_count": 12,
   "id": "dcd69e19-c143-473d-b1ca-020b6ce0f38d",
   "metadata": {},
   "outputs": [
    {
     "name": "stderr",
     "output_type": "stream",
     "text": [
      "Some weights of BertForQuestionAnswering were not initialized from the model checkpoint at bert-base-uncased and are newly initialized: ['qa_outputs.bias', 'qa_outputs.weight']\n",
      "You should probably TRAIN this model on a down-stream task to be able to use it for predictions and inference.\n",
      "/opt/conda/lib/python3.10/site-packages/transformers/optimization.py:591: FutureWarning: This implementation of AdamW is deprecated and will be removed in a future version. Use the PyTorch implementation torch.optim.AdamW instead, or set `no_deprecation_warning=True` to disable this warning\n",
      "  warnings.warn(\n"
     ]
    }
   ],
   "source": [
    "from transformers import BertForQuestionAnswering, AdamW\n",
    "from torch.utils.data import DataLoader, Dataset\n",
    "import torch\n",
    "from tqdm import tqdm\n",
    "\n",
    "# Use GPU if available, otherwise CPU\n",
    "device = torch.device(\"cuda\" if torch.cuda.is_available() else \"cpu\")\n",
    "\n",
    "class QnADataset(Dataset):\n",
    "    def __init__(self, processed_data):\n",
    "        self.data = processed_data\n",
    "\n",
    "    def __len__(self):\n",
    "        return len(self.data)\n",
    "\n",
    "    def __getitem__(self, idx):\n",
    "        return {\n",
    "            \"input_ids\": self.data[idx][\"input_ids\"],\n",
    "            \"attention_mask\": self.data[idx][\"attention_mask\"],\n",
    "            \"start_token_idx\": self.data[idx][\"start_token_idx\"],\n",
    "            \"end_token_idx\": self.data[idx][\"end_token_idx\"],\n",
    "        }\n",
    "\n",
    "processed_dataset = QnADataset(processed_qna_pairs)\n",
    "train_loader = DataLoader(processed_dataset, batch_size=8, shuffle=True)\n",
    "\n",
    "# Loading the BERT model \n",
    "model = BertForQuestionAnswering.from_pretrained(\"bert-base-uncased\")\n",
    "model.to(device)\n",
    "optimizer = AdamW(model.parameters(), lr=5e-5)"
   ]
  },
  {
   "cell_type": "code",
   "execution_count": 13,
   "id": "85580a98-5872-4ed1-b465-1e00f823c00e",
   "metadata": {},
   "outputs": [
    {
     "name": "stdout",
     "output_type": "stream",
     "text": [
      "Epoch 1\n"
     ]
    },
    {
     "name": "stderr",
     "output_type": "stream",
     "text": [
      "Training: 100%|██████████| 9/9 [00:01<00:00,  7.08it/s]\n"
     ]
    },
    {
     "name": "stdout",
     "output_type": "stream",
     "text": [
      "Epoch 1 Loss: 48.4952\n"
     ]
    },
    {
     "name": "stderr",
     "output_type": "stream",
     "text": [
      "Evaluating: 100%|██████████| 9/9 [00:00<00:00, 16.87it/s]\n"
     ]
    },
    {
     "name": "stdout",
     "output_type": "stream",
     "text": [
      "Validation Start Accuracy: 0.1429\n",
      "Validation End Accuracy: 0.1714\n",
      "Epoch 2\n"
     ]
    },
    {
     "name": "stderr",
     "output_type": "stream",
     "text": [
      "Training: 100%|██████████| 9/9 [00:01<00:00,  8.79it/s]\n"
     ]
    },
    {
     "name": "stdout",
     "output_type": "stream",
     "text": [
      "Epoch 2 Loss: 35.9979\n"
     ]
    },
    {
     "name": "stderr",
     "output_type": "stream",
     "text": [
      "Evaluating: 100%|██████████| 9/9 [00:00<00:00, 16.80it/s]\n"
     ]
    },
    {
     "name": "stdout",
     "output_type": "stream",
     "text": [
      "Validation Start Accuracy: 0.2000\n",
      "Validation End Accuracy: 0.2000\n",
      "Epoch 3\n"
     ]
    },
    {
     "name": "stderr",
     "output_type": "stream",
     "text": [
      "Training: 100%|██████████| 9/9 [00:00<00:00,  9.16it/s]\n"
     ]
    },
    {
     "name": "stdout",
     "output_type": "stream",
     "text": [
      "Epoch 3 Loss: 28.9773\n"
     ]
    },
    {
     "name": "stderr",
     "output_type": "stream",
     "text": [
      "Evaluating: 100%|██████████| 9/9 [00:00<00:00, 15.80it/s]\n"
     ]
    },
    {
     "name": "stdout",
     "output_type": "stream",
     "text": [
      "Validation Start Accuracy: 0.2000\n",
      "Validation End Accuracy: 0.2286\n",
      "Epoch 4\n"
     ]
    },
    {
     "name": "stderr",
     "output_type": "stream",
     "text": [
      "Training: 100%|██████████| 9/9 [00:00<00:00,  9.23it/s]\n"
     ]
    },
    {
     "name": "stdout",
     "output_type": "stream",
     "text": [
      "Epoch 4 Loss: 24.9503\n"
     ]
    },
    {
     "name": "stderr",
     "output_type": "stream",
     "text": [
      "Evaluating: 100%|██████████| 9/9 [00:00<00:00, 16.79it/s]\n"
     ]
    },
    {
     "name": "stdout",
     "output_type": "stream",
     "text": [
      "Validation Start Accuracy: 0.2571\n",
      "Validation End Accuracy: 0.2571\n",
      "Epoch 5\n"
     ]
    },
    {
     "name": "stderr",
     "output_type": "stream",
     "text": [
      "Training: 100%|██████████| 9/9 [00:00<00:00,  9.26it/s]\n"
     ]
    },
    {
     "name": "stdout",
     "output_type": "stream",
     "text": [
      "Epoch 5 Loss: 22.6067\n"
     ]
    },
    {
     "name": "stderr",
     "output_type": "stream",
     "text": [
      "Evaluating: 100%|██████████| 9/9 [00:00<00:00, 16.75it/s]\n"
     ]
    },
    {
     "name": "stdout",
     "output_type": "stream",
     "text": [
      "Validation Start Accuracy: 0.2143\n",
      "Validation End Accuracy: 0.2714\n",
      "Epoch 6\n"
     ]
    },
    {
     "name": "stderr",
     "output_type": "stream",
     "text": [
      "Training: 100%|██████████| 9/9 [00:00<00:00,  9.21it/s]\n"
     ]
    },
    {
     "name": "stdout",
     "output_type": "stream",
     "text": [
      "Epoch 6 Loss: 21.6277\n"
     ]
    },
    {
     "name": "stderr",
     "output_type": "stream",
     "text": [
      "Evaluating: 100%|██████████| 9/9 [00:00<00:00, 16.65it/s]\n"
     ]
    },
    {
     "name": "stdout",
     "output_type": "stream",
     "text": [
      "Validation Start Accuracy: 0.2714\n",
      "Validation End Accuracy: 0.3286\n",
      "Epoch 7\n"
     ]
    },
    {
     "name": "stderr",
     "output_type": "stream",
     "text": [
      "Training: 100%|██████████| 9/9 [00:00<00:00,  9.22it/s]\n"
     ]
    },
    {
     "name": "stdout",
     "output_type": "stream",
     "text": [
      "Epoch 7 Loss: 20.7461\n"
     ]
    },
    {
     "name": "stderr",
     "output_type": "stream",
     "text": [
      "Evaluating: 100%|██████████| 9/9 [00:00<00:00, 16.77it/s]\n"
     ]
    },
    {
     "name": "stdout",
     "output_type": "stream",
     "text": [
      "Validation Start Accuracy: 0.3857\n",
      "Validation End Accuracy: 0.3143\n",
      "Epoch 8\n"
     ]
    },
    {
     "name": "stderr",
     "output_type": "stream",
     "text": [
      "Training: 100%|██████████| 9/9 [00:00<00:00,  9.26it/s]\n"
     ]
    },
    {
     "name": "stdout",
     "output_type": "stream",
     "text": [
      "Epoch 8 Loss: 19.2677\n"
     ]
    },
    {
     "name": "stderr",
     "output_type": "stream",
     "text": [
      "Evaluating: 100%|██████████| 9/9 [00:00<00:00, 16.81it/s]\n"
     ]
    },
    {
     "name": "stdout",
     "output_type": "stream",
     "text": [
      "Validation Start Accuracy: 0.5286\n",
      "Validation End Accuracy: 0.4286\n",
      "Epoch 9\n"
     ]
    },
    {
     "name": "stderr",
     "output_type": "stream",
     "text": [
      "Training: 100%|██████████| 9/9 [00:00<00:00,  9.15it/s]\n"
     ]
    },
    {
     "name": "stdout",
     "output_type": "stream",
     "text": [
      "Epoch 9 Loss: 16.2286\n"
     ]
    },
    {
     "name": "stderr",
     "output_type": "stream",
     "text": [
      "Evaluating: 100%|██████████| 9/9 [00:00<00:00, 16.00it/s]\n"
     ]
    },
    {
     "name": "stdout",
     "output_type": "stream",
     "text": [
      "Validation Start Accuracy: 0.5571\n",
      "Validation End Accuracy: 0.5286\n",
      "Epoch 10\n"
     ]
    },
    {
     "name": "stderr",
     "output_type": "stream",
     "text": [
      "Training: 100%|██████████| 9/9 [00:00<00:00,  9.18it/s]\n"
     ]
    },
    {
     "name": "stdout",
     "output_type": "stream",
     "text": [
      "Epoch 10 Loss: 14.1342\n"
     ]
    },
    {
     "name": "stderr",
     "output_type": "stream",
     "text": [
      "Evaluating: 100%|██████████| 9/9 [00:00<00:00, 16.41it/s]\n"
     ]
    },
    {
     "name": "stdout",
     "output_type": "stream",
     "text": [
      "Validation Start Accuracy: 0.5714\n",
      "Validation End Accuracy: 0.6143\n",
      "Epoch 11\n"
     ]
    },
    {
     "name": "stderr",
     "output_type": "stream",
     "text": [
      "Training: 100%|██████████| 9/9 [00:00<00:00,  9.16it/s]\n"
     ]
    },
    {
     "name": "stdout",
     "output_type": "stream",
     "text": [
      "Epoch 11 Loss: 11.7349\n"
     ]
    },
    {
     "name": "stderr",
     "output_type": "stream",
     "text": [
      "Evaluating: 100%|██████████| 9/9 [00:00<00:00, 16.58it/s]\n"
     ]
    },
    {
     "name": "stdout",
     "output_type": "stream",
     "text": [
      "Validation Start Accuracy: 0.6857\n",
      "Validation End Accuracy: 0.7571\n",
      "Epoch 12\n"
     ]
    },
    {
     "name": "stderr",
     "output_type": "stream",
     "text": [
      "Training: 100%|██████████| 9/9 [00:00<00:00,  9.01it/s]\n"
     ]
    },
    {
     "name": "stdout",
     "output_type": "stream",
     "text": [
      "Epoch 12 Loss: 9.6928\n"
     ]
    },
    {
     "name": "stderr",
     "output_type": "stream",
     "text": [
      "Evaluating: 100%|██████████| 9/9 [00:00<00:00, 16.39it/s]\n"
     ]
    },
    {
     "name": "stdout",
     "output_type": "stream",
     "text": [
      "Validation Start Accuracy: 0.7714\n",
      "Validation End Accuracy: 0.8000\n",
      "Epoch 13\n"
     ]
    },
    {
     "name": "stderr",
     "output_type": "stream",
     "text": [
      "Training: 100%|██████████| 9/9 [00:01<00:00,  8.87it/s]\n"
     ]
    },
    {
     "name": "stdout",
     "output_type": "stream",
     "text": [
      "Epoch 13 Loss: 7.8872\n"
     ]
    },
    {
     "name": "stderr",
     "output_type": "stream",
     "text": [
      "Evaluating: 100%|██████████| 9/9 [00:00<00:00, 16.91it/s]\n"
     ]
    },
    {
     "name": "stdout",
     "output_type": "stream",
     "text": [
      "Validation Start Accuracy: 0.8714\n",
      "Validation End Accuracy: 0.8714\n",
      "Epoch 14\n"
     ]
    },
    {
     "name": "stderr",
     "output_type": "stream",
     "text": [
      "Training: 100%|██████████| 9/9 [00:00<00:00,  9.25it/s]\n"
     ]
    },
    {
     "name": "stdout",
     "output_type": "stream",
     "text": [
      "Epoch 14 Loss: 6.2065\n"
     ]
    },
    {
     "name": "stderr",
     "output_type": "stream",
     "text": [
      "Evaluating: 100%|██████████| 9/9 [00:00<00:00, 16.91it/s]\n"
     ]
    },
    {
     "name": "stdout",
     "output_type": "stream",
     "text": [
      "Validation Start Accuracy: 0.9429\n",
      "Validation End Accuracy: 0.9571\n",
      "Epoch 15\n"
     ]
    },
    {
     "name": "stderr",
     "output_type": "stream",
     "text": [
      "Training: 100%|██████████| 9/9 [00:00<00:00,  9.03it/s]\n"
     ]
    },
    {
     "name": "stdout",
     "output_type": "stream",
     "text": [
      "Epoch 15 Loss: 3.6648\n"
     ]
    },
    {
     "name": "stderr",
     "output_type": "stream",
     "text": [
      "Evaluating: 100%|██████████| 9/9 [00:00<00:00, 16.41it/s]\n"
     ]
    },
    {
     "name": "stdout",
     "output_type": "stream",
     "text": [
      "Validation Start Accuracy: 0.9714\n",
      "Validation End Accuracy: 0.9429\n",
      "Epoch 16\n"
     ]
    },
    {
     "name": "stderr",
     "output_type": "stream",
     "text": [
      "Training: 100%|██████████| 9/9 [00:00<00:00,  9.30it/s]\n"
     ]
    },
    {
     "name": "stdout",
     "output_type": "stream",
     "text": [
      "Epoch 16 Loss: 4.2308\n"
     ]
    },
    {
     "name": "stderr",
     "output_type": "stream",
     "text": [
      "Evaluating: 100%|██████████| 9/9 [00:00<00:00, 16.29it/s]\n"
     ]
    },
    {
     "name": "stdout",
     "output_type": "stream",
     "text": [
      "Validation Start Accuracy: 0.9857\n",
      "Validation End Accuracy: 0.9429\n",
      "Epoch 17\n"
     ]
    },
    {
     "name": "stderr",
     "output_type": "stream",
     "text": [
      "Training: 100%|██████████| 9/9 [00:00<00:00,  9.33it/s]\n"
     ]
    },
    {
     "name": "stdout",
     "output_type": "stream",
     "text": [
      "Epoch 17 Loss: 2.8129\n"
     ]
    },
    {
     "name": "stderr",
     "output_type": "stream",
     "text": [
      "Evaluating: 100%|██████████| 9/9 [00:00<00:00, 15.80it/s]\n"
     ]
    },
    {
     "name": "stdout",
     "output_type": "stream",
     "text": [
      "Validation Start Accuracy: 0.9571\n",
      "Validation End Accuracy: 0.9857\n",
      "Epoch 18\n"
     ]
    },
    {
     "name": "stderr",
     "output_type": "stream",
     "text": [
      "Training: 100%|██████████| 9/9 [00:01<00:00,  8.69it/s]\n"
     ]
    },
    {
     "name": "stdout",
     "output_type": "stream",
     "text": [
      "Epoch 18 Loss: 2.7466\n"
     ]
    },
    {
     "name": "stderr",
     "output_type": "stream",
     "text": [
      "Evaluating: 100%|██████████| 9/9 [00:00<00:00, 16.75it/s]\n"
     ]
    },
    {
     "name": "stdout",
     "output_type": "stream",
     "text": [
      "Validation Start Accuracy: 0.9857\n",
      "Validation End Accuracy: 0.9857\n",
      "Epoch 19\n"
     ]
    },
    {
     "name": "stderr",
     "output_type": "stream",
     "text": [
      "Training: 100%|██████████| 9/9 [00:00<00:00,  9.19it/s]\n"
     ]
    },
    {
     "name": "stdout",
     "output_type": "stream",
     "text": [
      "Epoch 19 Loss: 2.0494\n"
     ]
    },
    {
     "name": "stderr",
     "output_type": "stream",
     "text": [
      "Evaluating: 100%|██████████| 9/9 [00:00<00:00, 15.71it/s]\n"
     ]
    },
    {
     "name": "stdout",
     "output_type": "stream",
     "text": [
      "Validation Start Accuracy: 0.9857\n",
      "Validation End Accuracy: 0.9571\n",
      "Epoch 20\n"
     ]
    },
    {
     "name": "stderr",
     "output_type": "stream",
     "text": [
      "Training: 100%|██████████| 9/9 [00:00<00:00,  9.16it/s]\n"
     ]
    },
    {
     "name": "stdout",
     "output_type": "stream",
     "text": [
      "Epoch 20 Loss: 1.2950\n"
     ]
    },
    {
     "name": "stderr",
     "output_type": "stream",
     "text": [
      "Evaluating: 100%|██████████| 9/9 [00:00<00:00, 16.91it/s]\n"
     ]
    },
    {
     "name": "stdout",
     "output_type": "stream",
     "text": [
      "Validation Start Accuracy: 0.9857\n",
      "Validation End Accuracy: 0.9714\n",
      "Epoch 21\n"
     ]
    },
    {
     "name": "stderr",
     "output_type": "stream",
     "text": [
      "Training: 100%|██████████| 9/9 [00:00<00:00,  9.31it/s]\n"
     ]
    },
    {
     "name": "stdout",
     "output_type": "stream",
     "text": [
      "Epoch 21 Loss: 2.0920\n"
     ]
    },
    {
     "name": "stderr",
     "output_type": "stream",
     "text": [
      "Evaluating: 100%|██████████| 9/9 [00:00<00:00, 16.80it/s]\n"
     ]
    },
    {
     "name": "stdout",
     "output_type": "stream",
     "text": [
      "Validation Start Accuracy: 0.9857\n",
      "Validation End Accuracy: 0.9857\n",
      "Epoch 22\n"
     ]
    },
    {
     "name": "stderr",
     "output_type": "stream",
     "text": [
      "Training: 100%|██████████| 9/9 [00:01<00:00,  8.72it/s]\n"
     ]
    },
    {
     "name": "stdout",
     "output_type": "stream",
     "text": [
      "Epoch 22 Loss: 1.1280\n"
     ]
    },
    {
     "name": "stderr",
     "output_type": "stream",
     "text": [
      "Evaluating: 100%|██████████| 9/9 [00:00<00:00, 16.27it/s]\n"
     ]
    },
    {
     "name": "stdout",
     "output_type": "stream",
     "text": [
      "Validation Start Accuracy: 1.0000\n",
      "Validation End Accuracy: 0.9857\n",
      "Epoch 23\n"
     ]
    },
    {
     "name": "stderr",
     "output_type": "stream",
     "text": [
      "Training: 100%|██████████| 9/9 [00:00<00:00,  9.29it/s]\n"
     ]
    },
    {
     "name": "stdout",
     "output_type": "stream",
     "text": [
      "Epoch 23 Loss: 0.8236\n"
     ]
    },
    {
     "name": "stderr",
     "output_type": "stream",
     "text": [
      "Evaluating: 100%|██████████| 9/9 [00:00<00:00, 16.86it/s]\n"
     ]
    },
    {
     "name": "stdout",
     "output_type": "stream",
     "text": [
      "Validation Start Accuracy: 1.0000\n",
      "Validation End Accuracy: 0.9857\n",
      "Epoch 24\n"
     ]
    },
    {
     "name": "stderr",
     "output_type": "stream",
     "text": [
      "Training: 100%|██████████| 9/9 [00:00<00:00,  9.30it/s]\n"
     ]
    },
    {
     "name": "stdout",
     "output_type": "stream",
     "text": [
      "Epoch 24 Loss: 0.6878\n"
     ]
    },
    {
     "name": "stderr",
     "output_type": "stream",
     "text": [
      "Evaluating: 100%|██████████| 9/9 [00:00<00:00, 16.94it/s]\n"
     ]
    },
    {
     "name": "stdout",
     "output_type": "stream",
     "text": [
      "Validation Start Accuracy: 1.0000\n",
      "Validation End Accuracy: 0.9857\n",
      "Epoch 25\n"
     ]
    },
    {
     "name": "stderr",
     "output_type": "stream",
     "text": [
      "Training: 100%|██████████| 9/9 [00:00<00:00,  9.28it/s]\n"
     ]
    },
    {
     "name": "stdout",
     "output_type": "stream",
     "text": [
      "Epoch 25 Loss: 0.8189\n"
     ]
    },
    {
     "name": "stderr",
     "output_type": "stream",
     "text": [
      "Evaluating: 100%|██████████| 9/9 [00:00<00:00, 16.42it/s]\n"
     ]
    },
    {
     "name": "stdout",
     "output_type": "stream",
     "text": [
      "Validation Start Accuracy: 1.0000\n",
      "Validation End Accuracy: 0.9857\n"
     ]
    }
   ],
   "source": [
    "from sklearn.metrics import accuracy_score\n",
    "\n",
    "# Evaluation Function\n",
    "def evaluate(model, dataloader):\n",
    "    model.eval()\n",
    "    total = 0\n",
    "    correct_start = 0\n",
    "    correct_end = 0\n",
    "\n",
    "    with torch.no_grad():\n",
    "        for batch in tqdm(dataloader, desc=\"Evaluating\"):\n",
    "            input_ids = batch[\"input_ids\"].to(device)\n",
    "            attention_mask = batch[\"attention_mask\"].to(device)\n",
    "            start_positions = batch[\"start_token_idx\"].to(device)\n",
    "            end_positions = batch[\"end_token_idx\"].to(device)\n",
    "\n",
    "            # Forward pass\n",
    "            outputs = model(\n",
    "                input_ids=input_ids,\n",
    "                attention_mask=attention_mask,\n",
    "            )\n",
    "\n",
    "            start_predictions = torch.argmax(outputs.start_logits, dim=1)\n",
    "            end_predictions = torch.argmax(outputs.end_logits, dim=1)\n",
    "\n",
    "            # Calculating metrics\n",
    "            total += start_positions.size(0)\n",
    "            correct_start += (start_predictions == start_positions).sum().item()\n",
    "            correct_end += (end_predictions == end_positions).sum().item()\n",
    "\n",
    "    start_accuracy = correct_start / total\n",
    "    end_accuracy = correct_end / total\n",
    "    return start_accuracy, end_accuracy\n",
    "    \n",
    "epochs=25\n",
    "def train_and_evaluate(model, train_loader, val_loader, optimizer, epochs):\n",
    "    for epoch in range(epochs):\n",
    "        print(f\"Epoch {epoch + 1}\")\n",
    "        model.train()\n",
    "        epoch_loss = 0\n",
    "\n",
    "        for batch in tqdm(train_loader, desc=\"Training\"):\n",
    "            optimizer.zero_grad()\n",
    "\n",
    "            input_ids = batch[\"input_ids\"].to(device)\n",
    "            attention_mask = batch[\"attention_mask\"].to(device)\n",
    "            start_positions = batch[\"start_token_idx\"].to(device)\n",
    "            end_positions = batch[\"end_token_idx\"].to(device)\n",
    "\n",
    "            # Forward pass\n",
    "            outputs = model(\n",
    "                input_ids=input_ids,\n",
    "                attention_mask=attention_mask,\n",
    "                start_positions=start_positions,\n",
    "                end_positions=end_positions,\n",
    "            )\n",
    "\n",
    "            loss = outputs.loss\n",
    "            epoch_loss += loss.item()\n",
    "\n",
    "            # Backward pass\n",
    "            loss.backward()\n",
    "            optimizer.step()\n",
    "\n",
    "        print(f\"Epoch {epoch + 1} Loss: {epoch_loss:.4f}\")\n",
    "\n",
    "        start_acc, end_acc = evaluate(model, val_loader)\n",
    "        print(f\"Validation Start Accuracy: {start_acc:.4f}\")\n",
    "        print(f\"Validation End Accuracy: {end_acc:.4f}\")\n",
    "\n",
    "val_loader = DataLoader(processed_dataset, batch_size=8, shuffle=False)\n",
    "train_and_evaluate(model, train_loader, val_loader, optimizer, epochs)\n",
    "model.save_pretrained(\"./bert-qna-model\")"
   ]
  },
  {
   "cell_type": "code",
   "execution_count": 15,
   "id": "a422387d-5f5e-4938-954c-64de34b63cd5",
   "metadata": {},
   "outputs": [
    {
     "name": "stderr",
     "output_type": "stream",
     "text": [
      "Performing Inference:  22%|██▏       | 2/9 [00:00<00:01,  5.66it/s]"
     ]
    },
    {
     "name": "stdout",
     "output_type": "stream",
     "text": [
      "Example 1\n",
      "Context: [CLS] when did beyonce start becoming popular? [SEP] beyonce giselle knowles - carter ( / biːˈjɒnseɪ / bee - yon - say ) ( born september 4, 1981 ) is an american singer, songwriter, record producer and actress. born and raised in houston, texas, she performed in various singing and dancing competitions as a child, and rose to fame in the late 1990s as lead singer of r & b girl - group destiny ' s child. managed by her father, mathew knowles, the group became one of the world ' s best - selling girl groups of all time. their hiatus saw the release of beyonce ' s debut album, dangerously in love ( 2003 ), which established her as a solo artist worldwide, earned five grammy awards and featured the billboard hot 100 number - one singles \" crazy in love \" and \" baby boy \". [SEP]\n",
      "Predicted Answer: in the late 1990s\n",
      "Ground Truth Answer: in the late 1990s\n",
      "--------------------------------------------------------------------------------\n",
      "Example 2\n",
      "Context: [CLS] what areas did beyonce compete in when she was growing up? [SEP] beyonce giselle knowles - carter ( / biːˈjɒnseɪ / bee - yon - say ) ( born september 4, 1981 ) is an american singer, songwriter, record producer and actress. born and raised in houston, texas, she performed in various singing and dancing competitions as a child, and rose to fame in the late 1990s as lead singer of r & b girl - group destiny ' s child. managed by her father, mathew knowles, the group became one of the world ' s best - selling girl groups of all time. their hiatus saw the release of beyonce ' s debut album, dangerously in love ( 2003 ), which established her as a solo artist worldwide, earned five grammy awards and featured the billboard hot 100 number - one singles \" crazy in love \" and \" baby boy \". [SEP]\n",
      "Predicted Answer: singing and dancing\n",
      "Ground Truth Answer: singing and dancing\n",
      "--------------------------------------------------------------------------------\n",
      "Example 3\n",
      "Context: [CLS] when did beyonce leave destiny ' s child and become a solo singer? [SEP] beyonce giselle knowles - carter ( / biːˈjɒnseɪ / bee - yon - say ) ( born september 4, 1981 ) is an american singer, songwriter, record producer and actress. born and raised in houston, texas, she performed in various singing and dancing competitions as a child, and rose to fame in the late 1990s as lead singer of r & b girl - group destiny ' s child. managed by her father, mathew knowles, the group became one of the world ' s best - selling girl groups of all time. their hiatus saw the release of beyonce ' s debut album, dangerously in love ( 2003 ), which established her as a solo artist worldwide, earned five grammy awards and featured the billboard hot 100 number - one singles \" crazy in love \" and \" baby boy \". [SEP]\n",
      "Predicted Answer: 2003\n",
      "Ground Truth Answer: 2003\n",
      "--------------------------------------------------------------------------------\n",
      "Example 4\n",
      "Context: [CLS] in what city and state did beyonce grow up? [SEP] beyonce giselle knowles - carter ( / biːˈjɒnseɪ / bee - yon - say ) ( born september 4, 1981 ) is an american singer, songwriter, record producer and actress. born and raised in houston, texas, she performed in various singing and dancing competitions as a child, and rose to fame in the late 1990s as lead singer of r & b girl - group destiny ' s child. managed by her father, mathew knowles, the group became one of the world ' s best - selling girl groups of all time. their hiatus saw the release of beyonce ' s debut album, dangerously in love ( 2003 ), which established her as a solo artist worldwide, earned five grammy awards and featured the billboard hot 100 number - one singles \" crazy in love \" and \" baby boy \". [SEP]\n",
      "Predicted Answer: houston, texas\n",
      "Ground Truth Answer: houston, texas\n",
      "--------------------------------------------------------------------------------\n",
      "Example 5\n",
      "Context: [CLS] in which decade did beyonce become famous? [SEP] beyonce giselle knowles - carter ( / biːˈjɒnseɪ / bee - yon - say ) ( born september 4, 1981 ) is an american singer, songwriter, record producer and actress. born and raised in houston, texas, she performed in various singing and dancing competitions as a child, and rose to fame in the late 1990s as lead singer of r & b girl - group destiny ' s child. managed by her father, mathew knowles, the group became one of the world ' s best - selling girl groups of all time. their hiatus saw the release of beyonce ' s debut album, dangerously in love ( 2003 ), which established her as a solo artist worldwide, earned five grammy awards and featured the billboard hot 100 number - one singles \" crazy in love \" and \" baby boy \". [SEP]\n",
      "Predicted Answer: late 1990s\n",
      "Ground Truth Answer: late 1990s\n",
      "--------------------------------------------------------------------------------\n",
      "Example 6\n",
      "Context: [CLS] in what r & b group was she the lead singer? [SEP] beyonce giselle knowles - carter ( / biːˈjɒnseɪ / bee - yon - say ) ( born september 4, 1981 ) is an american singer, songwriter, record producer and actress. born and raised in houston, texas, she performed in various singing and dancing competitions as a child, and rose to fame in the late 1990s as lead singer of r & b girl - group destiny ' s child. managed by her father, mathew knowles, the group became one of the world ' s best - selling girl groups of all time. their hiatus saw the release of beyonce ' s debut album, dangerously in love ( 2003 ), which established her as a solo artist worldwide, earned five grammy awards and featured the billboard hot 100 number - one singles \" crazy in love \" and \" baby boy \". [SEP]\n",
      "Predicted Answer: destiny ' s child\n",
      "Ground Truth Answer: destiny ' s child\n",
      "--------------------------------------------------------------------------------\n",
      "Example 7\n",
      "Context: [CLS] what album made her a worldwide known artist? [SEP] beyonce giselle knowles - carter ( / biːˈjɒnseɪ / bee - yon - say ) ( born september 4, 1981 ) is an american singer, songwriter, record producer and actress. born and raised in houston, texas, she performed in various singing and dancing competitions as a child, and rose to fame in the late 1990s as lead singer of r & b girl - group destiny ' s child. managed by her father, mathew knowles, the group became one of the world ' s best - selling girl groups of all time. their hiatus saw the release of beyonce ' s debut album, dangerously in love ( 2003 ), which established her as a solo artist worldwide, earned five grammy awards and featured the billboard hot 100 number - one singles \" crazy in love \" and \" baby boy \". [SEP]\n",
      "Predicted Answer: dangerously in love\n",
      "Ground Truth Answer: dangerously in love\n",
      "--------------------------------------------------------------------------------\n",
      "Example 8\n",
      "Context: [CLS] who managed the destiny ' s child group? [SEP] beyonce giselle knowles - carter ( / biːˈjɒnseɪ / bee - yon - say ) ( born september 4, 1981 ) is an american singer, songwriter, record producer and actress. born and raised in houston, texas, she performed in various singing and dancing competitions as a child, and rose to fame in the late 1990s as lead singer of r & b girl - group destiny ' s child. managed by her father, mathew knowles, the group became one of the world ' s best - selling girl groups of all time. their hiatus saw the release of beyonce ' s debut album, dangerously in love ( 2003 ), which established her as a solo artist worldwide, earned five grammy awards and featured the billboard hot 100 number - one singles \" crazy in love \" and \" baby boy \". [SEP]\n",
      "Predicted Answer: mathew knowles\n",
      "Ground Truth Answer: mathew knowles\n",
      "--------------------------------------------------------------------------------\n",
      "Example 9\n",
      "Context: [CLS] when did beyonce rise to fame? [SEP] beyonce giselle knowles - carter ( / biːˈjɒnseɪ / bee - yon - say ) ( born september 4, 1981 ) is an american singer, songwriter, record producer and actress. born and raised in houston, texas, she performed in various singing and dancing competitions as a child, and rose to fame in the late 1990s as lead singer of r & b girl - group destiny ' s child. managed by her father, mathew knowles, the group became one of the world ' s best - selling girl groups of all time. their hiatus saw the release of beyonce ' s debut album, dangerously in love ( 2003 ), which established her as a solo artist worldwide, earned five grammy awards and featured the billboard hot 100 number - one singles \" crazy in love \" and \" baby boy \". [SEP]\n",
      "Predicted Answer: late 1990s\n",
      "Ground Truth Answer: late 1990s\n",
      "--------------------------------------------------------------------------------\n",
      "Example 10\n",
      "Context: [CLS] what role did beyonce have in destiny ' s child? [SEP] beyonce giselle knowles - carter ( / biːˈjɒnseɪ / bee - yon - say ) ( born september 4, 1981 ) is an american singer, songwriter, record producer and actress. born and raised in houston, texas, she performed in various singing and dancing competitions as a child, and rose to fame in the late 1990s as lead singer of r & b girl - group destiny ' s child. managed by her father, mathew knowles, the group became one of the world ' s best - selling girl groups of all time. their hiatus saw the release of beyonce ' s debut album, dangerously in love ( 2003 ), which established her as a solo artist worldwide, earned five grammy awards and featured the billboard hot 100 number - one singles \" crazy in love \" and \" baby boy \". [SEP]\n",
      "Predicted Answer: lead singer\n",
      "Ground Truth Answer: lead singer\n",
      "--------------------------------------------------------------------------------\n",
      "Example 11\n",
      "Context: [CLS] what was the first album beyonce released as a solo artist? [SEP] beyonce giselle knowles - carter ( / biːˈjɒnseɪ / bee - yon - say ) ( born september 4, 1981 ) is an american singer, songwriter, record producer and actress. born and raised in houston, texas, she performed in various singing and dancing competitions as a child, and rose to fame in the late 1990s as lead singer of r & b girl - group destiny ' s child. managed by her father, mathew knowles, the group became one of the world ' s best - selling girl groups of all time. their hiatus saw the release of beyonce ' s debut album, dangerously in love ( 2003 ), which established her as a solo artist worldwide, earned five grammy awards and featured the billboard hot 100 number - one singles \" crazy in love \" and \" baby boy \". [SEP]\n",
      "Predicted Answer: dangerously in love\n",
      "Ground Truth Answer: dangerously in love\n",
      "--------------------------------------------------------------------------------\n",
      "Example 12\n",
      "Context: [CLS] when did beyonce release dangerously in love? [SEP] beyonce giselle knowles - carter ( / biːˈjɒnseɪ / bee - yon - say ) ( born september 4, 1981 ) is an american singer, songwriter, record producer and actress. born and raised in houston, texas, she performed in various singing and dancing competitions as a child, and rose to fame in the late 1990s as lead singer of r & b girl - group destiny ' s child. managed by her father, mathew knowles, the group became one of the world ' s best - selling girl groups of all time. their hiatus saw the release of beyonce ' s debut album, dangerously in love ( 2003 ), which established her as a solo artist worldwide, earned five grammy awards and featured the billboard hot 100 number - one singles \" crazy in love \" and \" baby boy \". [SEP]\n",
      "Predicted Answer: 2003\n",
      "Ground Truth Answer: 2003\n",
      "--------------------------------------------------------------------------------\n",
      "Example 13\n",
      "Context: [CLS] how many grammy awards did beyonce win for her first solo album? [SEP] beyonce giselle knowles - carter ( / biːˈjɒnseɪ / bee - yon - say ) ( born september 4, 1981 ) is an american singer, songwriter, record producer and actress. born and raised in houston, texas, she performed in various singing and dancing competitions as a child, and rose to fame in the late 1990s as lead singer of r & b girl - group destiny ' s child. managed by her father, mathew knowles, the group became one of the world ' s best - selling girl groups of all time. their hiatus saw the release of beyonce ' s debut album, dangerously in love ( 2003 ), which established her as a solo artist worldwide, earned five grammy awards and featured the billboard hot 100 number - one singles \" crazy in love \" and \" baby boy \". [SEP]\n",
      "Predicted Answer: five\n",
      "Ground Truth Answer: five\n",
      "--------------------------------------------------------------------------------\n",
      "Example 14\n",
      "Context: [CLS] what was beyonce ' s role in destiny ' s child? [SEP] beyonce giselle knowles - carter ( / biːˈjɒnseɪ / bee - yon - say ) ( born september 4, 1981 ) is an american singer, songwriter, record producer and actress. born and raised in houston, texas, she performed in various singing and dancing competitions as a child, and rose to fame in the late 1990s as lead singer of r & b girl - group destiny ' s child. managed by her father, mathew knowles, the group became one of the world ' s best - selling girl groups of all time. their hiatus saw the release of beyonce ' s debut album, dangerously in love ( 2003 ), which established her as a solo artist worldwide, earned five grammy awards and featured the billboard hot 100 number - one singles \" crazy in love \" and \" baby boy \". [SEP]\n",
      "Predicted Answer: lead singer\n",
      "Ground Truth Answer: lead singer\n",
      "--------------------------------------------------------------------------------\n",
      "Example 15\n",
      "Context: [CLS] what was the name of beyonce ' s first solo album? [SEP] beyonce giselle knowles - carter ( / biːˈjɒnseɪ / bee - yon - say ) ( born september 4, 1981 ) is an american singer, songwriter, record producer and actress. born and raised in houston, texas, she performed in various singing and dancing competitions as a child, and rose to fame in the late 1990s as lead singer of r & b girl - group destiny ' s child. managed by her father, mathew knowles, the group became one of the world ' s best - selling girl groups of all time. their hiatus saw the release of beyonce ' s debut album, dangerously in love ( 2003 ), which established her as a solo artist worldwide, earned five grammy awards and featured the billboard hot 100 number - one singles \" crazy in love \" and \" baby boy \". [SEP]\n",
      "Predicted Answer: dangerously in love\n",
      "Ground Truth Answer: dangerously in love\n",
      "--------------------------------------------------------------------------------\n",
      "Example 16\n",
      "Context: [CLS] after her second solo album, what other entertainment venture did beyonce explore? [SEP] following the disbandment of destiny ' s child in june 2005, she released her second solo album, b ' day ( 2006 ), which contained hits \" deja vu \", \" irreplaceable \", and \" beautiful liar \". beyonce also ventured into acting, with a golden globe - nominated performance in dreamgirls ( 2006 ), and starring roles in the pink panther ( 2006 ) and obsessed ( 2009 ). her marriage to rapper jay z and portrayal of etta james in cadillac records ( 2008 ) influenced her third album, i am... sasha fierce ( 2008 ), which saw the birth of her alter - ego sasha fierce and earned a record - setting six grammy awards in 2010, including song of the year for \" single ladies ( put a ring on it ) \". beyonce took a hiatus from music in 2010 and took over management of her career ; her fourth album 4 ( 2011 ) was subsequently mellower in tone, exploring 1970s funk, 1980s pop, and 1990s soul. her critically acclaimed fifth studio album, beyonce ( 2013 ), was distinguished from previous releases by its experimental production and exploration of darker themes. [SEP]\n",
      "Predicted Answer: acting\n",
      "Ground Truth Answer: acting\n",
      "--------------------------------------------------------------------------------\n",
      "Example 17\n",
      "Context: [CLS] which artist did beyonce marry? [SEP] following the disbandment of destiny ' s child in june 2005, she released her second solo album, b ' day ( 2006 ), which contained hits \" deja vu \", \" irreplaceable \", and \" beautiful liar \". beyonce also ventured into acting, with a golden globe - nominated performance in dreamgirls ( 2006 ), and starring roles in the pink panther ( 2006 ) and obsessed ( 2009 ). her marriage to rapper jay z and portrayal of etta james in cadillac records ( 2008 ) influenced her third album, i am... sasha fierce ( 2008 ), which saw the birth of her alter - ego sasha fierce and earned a record - setting six grammy awards in 2010, including song of the year for \" single ladies ( put a ring on it ) \". beyonce took a hiatus from music in 2010 and took over management of her career ; her fourth album 4 ( 2011 ) was subsequently mellower in tone, exploring 1970s funk, 1980s pop, and 1990s soul. her critically acclaimed fifth studio album, beyonce ( 2013 ), was distinguished from previous releases by its experimental production and exploration of darker themes. [SEP]\n",
      "Predicted Answer: jay z\n",
      "Ground Truth Answer: jay z\n",
      "--------------------------------------------------------------------------------\n",
      "Example 18\n",
      "Context: [CLS] to set the record for grammys, how many did beyonce win? [SEP] following the disbandment of destiny ' s child in june 2005, she released her second solo album, b ' day ( 2006 ), which contained hits \" deja vu \", \" irreplaceable \", and \" beautiful liar \". beyonce also ventured into acting, with a golden globe - nominated performance in dreamgirls ( 2006 ), and starring roles in the pink panther ( 2006 ) and obsessed ( 2009 ). her marriage to rapper jay z and portrayal of etta james in cadillac records ( 2008 ) influenced her third album, i am... sasha fierce ( 2008 ), which saw the birth of her alter - ego sasha fierce and earned a record - setting six grammy awards in 2010, including song of the year for \" single ladies ( put a ring on it ) \". beyonce took a hiatus from music in 2010 and took over management of her career ; her fourth album 4 ( 2011 ) was subsequently mellower in tone, exploring 1970s funk, 1980s pop, and 1990s soul. her critically acclaimed fifth studio album, beyonce ( 2013 ), was distinguished from previous releases by its experimental production and exploration of darker themes. [SEP]\n",
      "Predicted Answer: six\n",
      "Ground Truth Answer: six\n",
      "--------------------------------------------------------------------------------\n",
      "Example 19\n",
      "Context: [CLS] for what movie did beyonce receive her first golden globe nomination? [SEP] following the disbandment of destiny ' s child in june 2005, she released her second solo album, b ' day ( 2006 ), which contained hits \" deja vu \", \" irreplaceable \", and \" beautiful liar \". beyonce also ventured into acting, with a golden globe - nominated performance in dreamgirls ( 2006 ), and starring roles in the pink panther ( 2006 ) and obsessed ( 2009 ). her marriage to rapper jay z and portrayal of etta james in cadillac records ( 2008 ) influenced her third album, i am... sasha fierce ( 2008 ), which saw the birth of her alter - ego sasha fierce and earned a record - setting six grammy awards in 2010, including song of the year for \" single ladies ( put a ring on it ) \". beyonce took a hiatus from music in 2010 and took over management of her career ; her fourth album 4 ( 2011 ) was subsequently mellower in tone, exploring 1970s funk, 1980s pop, and 1990s soul. her critically acclaimed fifth studio album, beyonce ( 2013 ), was distinguished from previous releases by its experimental production and exploration of darker themes. [SEP]\n",
      "Predicted Answer: dreamgirls\n",
      "Ground Truth Answer: dreamgirls\n",
      "--------------------------------------------------------------------------------\n",
      "Example 20\n",
      "Context: [CLS] when did beyonce take a hiatus in her career and take control of her management? [SEP] following the disbandment of destiny ' s child in june 2005, she released her second solo album, b ' day ( 2006 ), which contained hits \" deja vu \", \" irreplaceable \", and \" beautiful liar \". beyonce also ventured into acting, with a golden globe - nominated performance in dreamgirls ( 2006 ), and starring roles in the pink panther ( 2006 ) and obsessed ( 2009 ). her marriage to rapper jay z and portrayal of etta james in cadillac records ( 2008 ) influenced her third album, i am... sasha fierce ( 2008 ), which saw the birth of her alter - ego sasha fierce and earned a record - setting six grammy awards in 2010, including song of the year for \" single ladies ( put a ring on it ) \". beyonce took a hiatus from music in 2010 and took over management of her career ; her fourth album 4 ( 2011 ) was subsequently mellower in tone, exploring 1970s funk, 1980s pop, and 1990s soul. her critically acclaimed fifth studio album, beyonce ( 2013 ), was distinguished from previous releases by its experimental production and exploration of darker themes. [SEP]\n",
      "Predicted Answer: 2010\n",
      "Ground Truth Answer: 2010\n",
      "--------------------------------------------------------------------------------\n"
     ]
    },
    {
     "name": "stderr",
     "output_type": "stream",
     "text": [
      "\n"
     ]
    }
   ],
   "source": [
    "def perform_inference_fixed_v3(model, dataloader, tokenizer, num_samples=20):\n",
    "    \"\"\"\n",
    "    Perform inference and display predicted vs. ground truth answers with better handling.\n",
    "\n",
    "    Args:\n",
    "        model: Trained BERT model for QnA.\n",
    "        dataloader: DataLoader for the test/validation set.\n",
    "        tokenizer: Tokenizer used for BERT.\n",
    "        num_samples: Number of examples to display.\n",
    "\n",
    "    Returns:\n",
    "        None\n",
    "    \"\"\"\n",
    "    model.eval()\n",
    "    predictions = []\n",
    "    ground_truths = []\n",
    "    contexts = []\n",
    "\n",
    "    with torch.no_grad():\n",
    "        for batch in tqdm(dataloader, desc=\"Performing Inference\"):\n",
    "            input_ids = batch[\"input_ids\"].to(device)\n",
    "            attention_mask = batch[\"attention_mask\"].to(device)\n",
    "            start_positions = batch[\"start_token_idx\"].to(device)\n",
    "            end_positions = batch[\"end_token_idx\"].to(device)\n",
    "\n",
    "            # Forward pass\n",
    "            outputs = model(input_ids=input_ids, attention_mask=attention_mask)\n",
    "            start_predictions = torch.argmax(outputs.start_logits, dim=1)\n",
    "            end_predictions = torch.argmax(outputs.end_logits, dim=1)\n",
    "\n",
    "            for i in range(input_ids.size(0)):\n",
    "                tokens = tokenizer.convert_ids_to_tokens(input_ids[i])\n",
    "                context_tokens = tokens[:attention_mask[i].sum().item()]  # Remove padding\n",
    "                context = tokenizer.convert_tokens_to_string(context_tokens)\n",
    "\n",
    "                # Predicted answer\n",
    "                if (\n",
    "                    start_predictions[i] < len(context_tokens)\n",
    "                    and end_predictions[i] < len(context_tokens)\n",
    "                    and start_predictions[i] <= end_predictions[i]\n",
    "                ):\n",
    "                    predicted_answer = tokenizer.convert_tokens_to_string(\n",
    "                        context_tokens[start_predictions[i]:end_predictions[i] + 1]\n",
    "                    ).strip()\n",
    "                else:\n",
    "                    predicted_answer = \"[INVALID PREDICTION]\"\n",
    "\n",
    "                # Ground truth answer\n",
    "                if start_positions[i] < len(context_tokens) and end_positions[i] < len(context_tokens):\n",
    "                    ground_truth_answer = tokenizer.convert_tokens_to_string(\n",
    "                        context_tokens[start_positions[i]:end_positions[i] + 1]\n",
    "                    ).strip()\n",
    "                else:\n",
    "                    ground_truth_answer = \"[INVALID GROUND TRUTH]\"\n",
    "\n",
    "                contexts.append(context)\n",
    "                predictions.append(predicted_answer)\n",
    "                ground_truths.append(ground_truth_answer)\n",
    "\n",
    "                if len(predictions) >= num_samples:\n",
    "                    break\n",
    "            if len(predictions) >= num_samples:\n",
    "                break\n",
    "\n",
    "    for i in range(len(predictions)):\n",
    "        print(f\"Example {i + 1}\")\n",
    "        print(f\"Context: {contexts[i]}\")\n",
    "        print(f\"Predicted Answer: {predictions[i]}\")\n",
    "        print(f\"Ground Truth Answer: {ground_truths[i]}\")\n",
    "        print(\"-\" * 80)\n",
    "\n",
    "perform_inference_fixed_v3(model, val_loader, tokenizer, num_samples=20)"
   ]
  },
  {
   "cell_type": "markdown",
   "id": "b29cb612-0a23-4e76-af6b-fa314fd388ad",
   "metadata": {},
   "source": [
    "For samples 70 and training model with 25 epochs it predicted all the samples correctly, we can see predicted and ground truth answers are same."
   ]
  },
  {
   "cell_type": "code",
   "execution_count": null,
   "id": "059e32a8-f67a-48c7-99a9-f9a60cdfe2b6",
   "metadata": {},
   "outputs": [],
   "source": []
  }
 ],
 "metadata": {
  "kernelspec": {
   "display_name": "Python 3 (ipykernel)",
   "language": "python",
   "name": "python3"
  },
  "language_info": {
   "codemirror_mode": {
    "name": "ipython",
    "version": 3
   },
   "file_extension": ".py",
   "mimetype": "text/x-python",
   "name": "python",
   "nbconvert_exporter": "python",
   "pygments_lexer": "ipython3",
   "version": "3.10.13"
  }
 },
 "nbformat": 4,
 "nbformat_minor": 5
}
